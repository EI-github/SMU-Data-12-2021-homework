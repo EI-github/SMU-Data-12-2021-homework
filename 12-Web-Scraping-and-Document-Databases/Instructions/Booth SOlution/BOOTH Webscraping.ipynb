{
 "cells": [
  {
   "cell_type": "code",
   "execution_count": null,
   "id": "4ec28796",
   "metadata": {},
   "outputs": [],
   "source": [
    "import pandas as pd\n",
    "from splinter import Browser\n",
    "from bs4 import BeautifulSoup as bs\n",
    "from webdriver_manager.chrome import ChromeDriverManager\n",
    "from IPython.display import display, Image"
   ]
  },
  {
   "cell_type": "code",
   "execution_count": null,
   "id": "c0074058",
   "metadata": {},
   "outputs": [],
   "source": [
    " # Setup splinter INSTEAD\n",
    "executable_path = {'executable_path': ChromeDriverManager().install()}\n",
    "browser = Browser('chrome', **executable_path, headless=False)"
   ]
  },
  {
   "cell_type": "code",
   "execution_count": null,
   "id": "9a477572",
   "metadata": {},
   "outputs": [],
   "source": [
    "redplanet_url = \"https://redplanetscience.com/\"\n",
    "browser.visit(redplanet_url)\n",
    "\n",
    "html = browser.html\n",
    "chicken_noodle = bs(html)\n",
    "\n",
    "#scrapes the news titles\n",
    "news_title = chicken_noodle.find_all(\"div\", {\"class\":\"content_title\"})[0].text\n",
    "\n",
    "#scrapes the blurb under the news title\n",
    "news_p = chicken_noodle.find_all(\"div\", {\"class\":\"article_teaser_body\"})[0].text\n",
    "\n",
    "news_p"
   ]
  },
  {
   "cell_type": "code",
   "execution_count": null,
   "id": "0f31f07b",
   "metadata": {},
   "outputs": [],
   "source": [
    "spaceimages_url = \"https://spaceimages-mars.com/\"\n",
    "browser.visit(spaceimages_url)\n",
    "\n",
    "html = browser.html\n",
    "chicken_noodle = bs(html)\n",
    "\n",
    "#scrapes the image URL\n",
    "featured_image_url = spaceimages_url + chicken_noodle.find(\"img\", {\"class\":\"headerimage\"})[\"src\"]\n",
    "featured_image_url"
   ]
  },
  {
   "cell_type": "code",
   "execution_count": null,
   "id": "dd0869da",
   "metadata": {},
   "outputs": [],
   "source": [
    "galaxyfacts_url = \"https://galaxyfacts-mars.com/\"\n",
    "browser.visit(galaxyfacts_url)\n",
    "\n",
    "html = browser.html\n",
    "dfs = pd.read_html(html)\n",
    "\n",
    "# finds facts table\n",
    "df = dfs[1]\n",
    "df.columns=[\"Statistic\", \"Value\"]\n",
    "\n",
    "# send to_html\n",
    "df"
   ]
  },
  {
   "cell_type": "code",
   "execution_count": null,
   "id": "2cbdc27a",
   "metadata": {},
   "outputs": [],
   "source": [
    "marshemi_url = \"https://marshemispheres.com/\"\n",
    "browser.visit(marshemi_url)\n",
    "\n",
    "html = browser.html\n",
    "split_pea = bs(html)"
   ]
  },
  {
   "cell_type": "code",
   "execution_count": null,
   "id": "d852667c",
   "metadata": {},
   "outputs": [],
   "source": [
    "items = split_pea.find_all(\"div\", {\"class\": \"item\"})\n",
    "len(items)"
   ]
  },
  {
   "cell_type": "code",
   "execution_count": null,
   "id": "44a59f11",
   "metadata": {},
   "outputs": [],
   "source": [
    "hemisphere = []\n",
    "\n",
    "for item in items:\n",
    "    # parse page 1\n",
    "    item_link = item.find(\"div\", {\"class\", \"description\"}).find(\"a\")\n",
    "    item_url = marshemi_url + item_link[\"href\"] #builds url\n",
    "    item_title = item_link.text.strip().strip(\"Enhanced\").strip() #strips out title\n",
    "    \n",
    "    # visit the found URL\n",
    "    browser.visit(item_url)\n",
    "    html2 = browser.html\n",
    "    split_pea2 = bs(html2)\n",
    "    hemi_url = marshemi_url + split_pea2.find(\"img\", {\"class\": \"wide-image\"})[\"src\"] #locates image URL\n",
    "    \n",
    "    #throws it all together\n",
    "    data = {\"title\": item_title, \"img_url\": hemi_url}\n",
    "    hemisphere.append(data)"
   ]
  },
  {
   "cell_type": "code",
   "execution_count": null,
   "id": "8d5e33cc",
   "metadata": {},
   "outputs": [],
   "source": [
    "hemisphere"
   ]
  },
  {
   "cell_type": "code",
   "execution_count": null,
   "id": "3c0f9f90",
   "metadata": {},
   "outputs": [],
   "source": [
    "display(Image(hemisphere[3][\"img_url\"]))"
   ]
  },
  {
   "cell_type": "code",
   "execution_count": null,
   "id": "f414cc63",
   "metadata": {},
   "outputs": [],
   "source": [
    "data_scraped = {}\n",
    "data_scraped[\"news_p\"] = news_p\n",
    "data_scraped[\"news_title\"] = news_title\n",
    "data_scraped[\"featured_image_url\"] = featured_image_url\n",
    "data_scraped[\"mars_facts\"] = df.to_html() #takes df from galaxyfacts and converts to html\n",
    "data_scraped[\"hemispheres\"] = hemisphere"
   ]
  },
  {
   "cell_type": "code",
   "execution_count": null,
   "id": "210e42b2",
   "metadata": {},
   "outputs": [],
   "source": [
    "data_scraped"
   ]
  }
 ],
 "metadata": {
  "kernelspec": {
   "display_name": "Python 3",
   "language": "python",
   "name": "python3"
  },
  "language_info": {
   "codemirror_mode": {
    "name": "ipython",
    "version": 3
   },
   "file_extension": ".py",
   "mimetype": "text/x-python",
   "name": "python",
   "nbconvert_exporter": "python",
   "pygments_lexer": "ipython3",
   "version": "3.8.8"
  }
 },
 "nbformat": 4,
 "nbformat_minor": 5
}
