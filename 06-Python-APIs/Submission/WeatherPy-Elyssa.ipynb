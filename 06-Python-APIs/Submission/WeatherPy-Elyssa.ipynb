{
 "cells": [
  {
   "cell_type": "markdown",
   "metadata": {},
   "source": [
    "# WeatherPy\n",
    "----\n",
    "\n",
    "#### Note\n",
    "* Instructions have been included for each segment. You do not have to follow them exactly, but they are included to help you think through the steps."
   ]
  },
  {
   "cell_type": "code",
   "execution_count": 1,
   "metadata": {
    "scrolled": true
   },
   "outputs": [],
   "source": [
    "# Dependencies and Setup\n",
    "import matplotlib.pyplot as plt\n",
    "import seaborn as sns\n",
    "import pandas as pd\n",
    "import numpy as np\n",
    "import requests\n",
    "import time\n",
    "\n",
    "from pprint import pprint\n",
    "# regressions\n",
    "from scipy.stats import linregress\n",
    "\n",
    "# Import API key\n",
    "from api_keys_Elyssa import weather_api_key\n",
    "\n",
    "# Incorporated citipy to determine city based on latitude and longitude\n",
    "from citipy import citipy\n",
    "\n",
    "# Output File (CSV)\n",
    "# output_data_file = \"output_data/cities.csv\"\n",
    "\n",
    "# Range of latitudes and longitudes\n",
    "lat_range = (-90, 90)\n",
    "lng_range = (-180, 180)"
   ]
  },
  {
   "cell_type": "markdown",
   "metadata": {},
   "source": [
    "## Generate Cities List"
   ]
  },
  {
   "cell_type": "code",
   "execution_count": 2,
   "metadata": {},
   "outputs": [
    {
     "data": {
      "text/plain": [
       "602"
      ]
     },
     "execution_count": 2,
     "metadata": {},
     "output_type": "execute_result"
    }
   ],
   "source": [
    "# List for holding lat_lngs and cities\n",
    "lat_lngs = []\n",
    "cities = []\n",
    "\n",
    "# Create a set of random lat and lng combinations\n",
    "lats = np.random.uniform(lat_range[0], lat_range[1], size=1500)\n",
    "lngs = np.random.uniform(lng_range[0], lng_range[1], size=1500)\n",
    "lat_lngs = zip(lats, lngs)\n",
    "\n",
    "# Identify nearest city for each lat, lng combination\n",
    "for lat_lng in lat_lngs:\n",
    "    city = citipy.nearest_city(lat_lng[0], lat_lng[1]).city_name\n",
    "    \n",
    "    # If the city is unique, then add it to a our cities list\n",
    "    if city not in cities:\n",
    "        cities.append(city)\n",
    "\n",
    "# Print the city count to confirm sufficient count\n",
    "len(cities)"
   ]
  },
  {
   "cell_type": "markdown",
   "metadata": {},
   "source": [
    "### Perform API Calls\n",
    "* Perform a weather check on each city using a series of successive API calls.\n",
    "* Include a print log of each city as it'sbeing processed (with the city number and city name).\n",
    "\n",
    "> **HINT:** The OpenWeatherMap API only allows 60 calls per minute under their free plan. Try using `time.sleep(60)` after each set of 50 cities to avoid API errors due to large calls."
   ]
  },
  {
   "cell_type": "code",
   "execution_count": 3,
   "metadata": {
    "scrolled": true
   },
   "outputs": [
    {
     "data": {
      "text/plain": [
       "['figeac', 'airai', 'mataura', 'bereda', 'yambio']"
      ]
     },
     "execution_count": 3,
     "metadata": {},
     "output_type": "execute_result"
    }
   ],
   "source": [
    "cities[0:5]"
   ]
  },
  {
   "cell_type": "code",
   "execution_count": 4,
   "metadata": {},
   "outputs": [],
   "source": [
    "# Save config information.\n",
    "url = \"http://api.openweathermap.org/data/2.5/weather?\"\n",
    "units = \"imperial\""
   ]
  },
  {
   "cell_type": "code",
   "execution_count": 5,
   "metadata": {},
   "outputs": [
    {
     "name": "stdout",
     "output_type": "stream",
     "text": [
      "200\n"
     ]
    }
   ],
   "source": [
    " # Build query URL and request your results in Celsius\n",
    "city = \"mnogovershinnyy\"\n",
    "query_url = f\"{url}appid={weather_api_key}&q={city}&units={units}\"\n",
    "\n",
    "# Get weather data\n",
    "weather_response = requests.get(query_url)\n",
    "print(weather_response.status_code)\n",
    "weather_json = weather_response.json()"
   ]
  },
  {
   "cell_type": "code",
   "execution_count": 6,
   "metadata": {},
   "outputs": [
    {
     "data": {
      "text/plain": [
       "dict"
      ]
     },
     "execution_count": 6,
     "metadata": {},
     "output_type": "execute_result"
    }
   ],
   "source": [
    "type(weather_json)"
   ]
  },
  {
   "cell_type": "code",
   "execution_count": 7,
   "metadata": {},
   "outputs": [
    {
     "data": {
      "text/plain": [
       "dict_keys(['coord', 'weather', 'base', 'main', 'visibility', 'wind', 'clouds', 'dt', 'sys', 'timezone', 'id', 'name', 'cod'])"
      ]
     },
     "execution_count": 7,
     "metadata": {},
     "output_type": "execute_result"
    }
   ],
   "source": [
    "weather_json.keys()"
   ]
  },
  {
   "cell_type": "code",
   "execution_count": 8,
   "metadata": {},
   "outputs": [
    {
     "name": "stdout",
     "output_type": "stream",
     "text": [
      "{'base': 'stations',\n",
      " 'clouds': {'all': 100},\n",
      " 'cod': 200,\n",
      " 'coord': {'lat': 53.9353, 'lon': 139.9242},\n",
      " 'dt': 1644208088,\n",
      " 'id': 2019935,\n",
      " 'main': {'feels_like': -6.5,\n",
      "          'grnd_level': 969,\n",
      "          'humidity': 71,\n",
      "          'pressure': 1016,\n",
      "          'sea_level': 1016,\n",
      "          'temp': 5.45,\n",
      "          'temp_max': 5.45,\n",
      "          'temp_min': 5.45},\n",
      " 'name': 'Mnogovershinnyy',\n",
      " 'sys': {'country': 'RU', 'sunrise': 1644185838, 'sunset': 1644219094},\n",
      " 'timezone': 36000,\n",
      " 'visibility': 10000,\n",
      " 'weather': [{'description': 'overcast clouds',\n",
      "              'icon': '04d',\n",
      "              'id': 804,\n",
      "              'main': 'Clouds'}],\n",
      " 'wind': {'deg': 293, 'gust': 12.59, 'speed': 7}}\n"
     ]
    }
   ],
   "source": [
    "pprint(weather_json)"
   ]
  },
  {
   "cell_type": "code",
   "execution_count": 9,
   "metadata": {},
   "outputs": [],
   "source": [
    "lat = weather_json[\"coord\"][\"lat\"]\n",
    "lng = weather_json[\"coord\"][\"lon\"]\n",
    "country = weather_json[\"sys\"][\"country\"]\n",
    "cloudiness = weather_json[\"clouds\"][\"all\"]\n",
    "\n",
    "date_dt = weather_json[\"dt\"]\n",
    "city_name = weather_json[\"name\"]\n",
    "wind = weather_json[\"wind\"][\"speed\"]\n",
    "\n",
    "temp = weather_json[\"main\"]['temp']\n",
    "pressure = weather_json[\"main\"]['pressure']\n",
    "humidity = weather_json[\"main\"]['humidity']"
   ]
  },
  {
   "cell_type": "code",
   "execution_count": 10,
   "metadata": {},
   "outputs": [
    {
     "data": {
      "text/plain": [
       "1016"
      ]
     },
     "execution_count": 10,
     "metadata": {},
     "output_type": "execute_result"
    }
   ],
   "source": [
    "pressure"
   ]
  },
  {
   "cell_type": "code",
   "execution_count": 11,
   "metadata": {},
   "outputs": [
    {
     "data": {
      "text/plain": [
       "['novyy urengoy',\n",
       " 'salym',\n",
       " 'haines junction',\n",
       " 'cantaura',\n",
       " 'batouri',\n",
       " 'bagar',\n",
       " 'el alto',\n",
       " 'prachatice',\n",
       " 'kikwit',\n",
       " 'sao gabriel da cachoeira']"
      ]
     },
     "execution_count": 11,
     "metadata": {},
     "output_type": "execute_result"
    }
   ],
   "source": [
    "#check last 10 cities\n",
    "cities[-10:]"
   ]
  },
  {
   "cell_type": "code",
   "execution_count": 12,
   "metadata": {},
   "outputs": [
    {
     "data": {
      "text/plain": [
       "10.833333333333334"
      ]
     },
     "execution_count": 12,
     "metadata": {},
     "output_type": "execute_result"
    }
   ],
   "source": [
    "650/60"
   ]
  },
  {
   "cell_type": "code",
   "execution_count": null,
   "metadata": {},
   "outputs": [],
   "source": []
  },
  {
   "cell_type": "code",
   "execution_count": 13,
   "metadata": {
    "scrolled": true
   },
   "outputs": [
    {
     "name": "stdout",
     "output_type": "stream",
     "text": [
      "figeac\n",
      "200\n",
      "\n",
      "airai\n",
      "200\n",
      "\n",
      "mataura\n",
      "200\n",
      "\n",
      "bereda\n",
      "200\n",
      "\n",
      "yambio\n",
      "200\n",
      "\n",
      "vaini\n",
      "200\n",
      "\n",
      "khatanga\n",
      "200\n",
      "\n",
      "chuy\n",
      "200\n",
      "\n",
      "port alfred\n",
      "200\n",
      "\n",
      "rikitea\n",
      "200\n",
      "\n",
      "atuona\n",
      "200\n",
      "\n",
      "bengkulu\n",
      "200\n",
      "\n",
      "nikolskoye\n",
      "200\n",
      "\n",
      "grindavik\n",
      "200\n",
      "\n",
      "upernavik\n",
      "200\n",
      "\n",
      "qaanaaq\n",
      "200\n",
      "\n",
      "washington\n",
      "200\n",
      "\n",
      "busselton\n",
      "200\n",
      "\n",
      "ushuaia\n",
      "200\n",
      "\n",
      "bali\n",
      "200\n",
      "\n",
      "taolanaro\n",
      "404\n",
      "\n",
      "'coord'\n",
      "marsh harbour\n",
      "200\n",
      "\n",
      "saskylakh\n",
      "200\n",
      "\n",
      "cidreira\n",
      "200\n",
      "\n",
      "cape town\n",
      "200\n",
      "\n",
      "abalak\n",
      "200\n",
      "\n",
      "hermanus\n",
      "200\n",
      "\n",
      "watertown\n",
      "200\n",
      "\n",
      "punta arenas\n",
      "200\n",
      "\n",
      "longyearbyen\n",
      "200\n",
      "\n",
      "atikokan\n",
      "200\n",
      "\n",
      "victoria\n",
      "200\n",
      "\n",
      "iberia\n",
      "200\n",
      "\n",
      "jamestown\n",
      "200\n",
      "\n",
      "hobart\n",
      "200\n",
      "\n",
      "adamas\n",
      "200\n",
      "\n",
      "utiroa\n",
      "404\n",
      "\n",
      "'coord'\n",
      "rocha\n",
      "200\n",
      "\n",
      "chokurdakh\n",
      "200\n",
      "\n",
      "thompson\n",
      "200\n",
      "\n",
      "kindu\n",
      "200\n",
      "\n",
      "albany\n",
      "200\n",
      "\n",
      "tasiilaq\n",
      "200\n",
      "\n",
      "semporna\n",
      "200\n",
      "\n",
      "bluff\n",
      "200\n",
      "\n",
      "matameye\n",
      "404\n",
      "\n",
      "'coord'\n",
      "saint-philippe\n",
      "200\n",
      "\n",
      "mogzon\n",
      "200\n",
      "\n",
      "tecoanapa\n",
      "200\n",
      "\n",
      "talnakh\n",
      "200\n",
      "\n",
      "vieques\n",
      "200\n",
      "\n",
      "cabo san lucas\n",
      "200\n",
      "\n",
      "narsaq\n",
      "200\n",
      "\n",
      "sentyabrskiy\n",
      "404\n",
      "\n",
      "'coord'\n",
      "leninskoye\n",
      "200\n",
      "\n",
      "belushya guba\n",
      "404\n",
      "\n",
      "'coord'\n",
      "tidore\n",
      "404\n",
      "\n",
      "'coord'\n",
      "nouadhibou\n",
      "200\n",
      "\n",
      "kahului\n",
      "200\n",
      "\n",
      "ous\n",
      "200\n",
      "\n"
     ]
    }
   ],
   "source": [
    "lats = []\n",
    "lngs = []\n",
    "countries = []\n",
    "clouds = []\n",
    "dates = []\n",
    "names = []\n",
    "winds = []\n",
    "temps = []\n",
    "pressures = []\n",
    "humids = []\n",
    "\n",
    "for city in cities[0:60]:\n",
    "    \n",
    "    # make request\n",
    "    print(city)\n",
    "    \n",
    "    # Build query URL and request your results in Celsius\n",
    "    query_url = f\"{url}appid={weather_api_key}&q={city}&units={units}\"\n",
    "\n",
    "    # Get weather data\n",
    "    weather_response = requests.get(query_url)\n",
    "    print(weather_response.status_code)\n",
    "    print()\n",
    "\n",
    "    \n",
    "    \n",
    "    try:\n",
    "        # get data\n",
    "        weather_json = weather_response.json()\n",
    "\n",
    "        # parse the data\n",
    "        lat = weather_json[\"coord\"][\"lat\"]\n",
    "        lng = weather_json[\"coord\"][\"lon\"]\n",
    "        country = weather_json[\"sys\"][\"country\"]\n",
    "        cloudiness = weather_json[\"clouds\"][\"all\"]\n",
    "\n",
    "        date_dt = weather_json[\"dt\"]\n",
    "        city_name = weather_json[\"name\"]\n",
    "        wind = weather_json[\"wind\"][\"speed\"]\n",
    "\n",
    "        temp = weather_json[\"main\"]['temp']\n",
    "        pressure = weather_json[\"main\"]['pressure']\n",
    "        humidity = weather_json[\"main\"]['humidity']\n",
    "        \n",
    "#     lat = weather_json.get(\"coord\").get(\"lat\")\n",
    "#     lng = weather_json.get(\"coord\").get(\"lon\")\n",
    "#     country = weather_json.get(\"sys\").get(\"country\")\n",
    "#     cloudiness = weather_json.get(\"clouds\").get(\"all\")\n",
    "\n",
    "#     date_dt = weather_json.get(\"dt\")\n",
    "#     city_name = weather_json.get(\"name\")\n",
    "#     wind = weather_json.get(\"wind\").get(\"speed\")\n",
    "\n",
    "#     temp = weather_json.get(\"main\").get(\"temp\")\n",
    "#     pressure = weather_json.get(\"main\").get(\"pressure\")\n",
    "#     humidity = weather_json.get(\"main\").get(\"humidity\")\n",
    "\n",
    "        # slap into lists\n",
    "        lats.append(lat)\n",
    "        lngs.append(lng)\n",
    "        countries.append(country)\n",
    "        clouds.append(cloudiness)\n",
    "        dates.append(date_dt)\n",
    "        names.append(city_name)\n",
    "        winds.append(wind)\n",
    "        temps.append(temp)\n",
    "        pressures.append(pressure)\n",
    "        humids.append(humidity)\n",
    "            \n",
    "    except Exception as e:\n",
    "        print(e)\n",
    "        \n",
    "        # slap into lists\n",
    "        lats.append(np.nan)\n",
    "        lngs.append(np.nan)\n",
    "        countries.append(None)\n",
    "        clouds.append(np.nan)\n",
    "        dates.append(np.nan)\n",
    "        names.append(city)\n",
    "        winds.append(np.nan)\n",
    "        temps.append(np.nan)\n",
    "        pressures.append(np.nan)\n",
    "        humids.append(np.nan)\n",
    "        \n",
    "    time.sleep(1)    \n",
    "\n",
    "       \n",
    "    \n"
   ]
  },
  {
   "cell_type": "code",
   "execution_count": null,
   "metadata": {},
   "outputs": [],
   "source": []
  },
  {
   "cell_type": "code",
   "execution_count": 14,
   "metadata": {},
   "outputs": [
    {
     "data": {
      "text/html": [
       "<div>\n",
       "<style scoped>\n",
       "    .dataframe tbody tr th:only-of-type {\n",
       "        vertical-align: middle;\n",
       "    }\n",
       "\n",
       "    .dataframe tbody tr th {\n",
       "        vertical-align: top;\n",
       "    }\n",
       "\n",
       "    .dataframe thead th {\n",
       "        text-align: right;\n",
       "    }\n",
       "</style>\n",
       "<table border=\"1\" class=\"dataframe\">\n",
       "  <thead>\n",
       "    <tr style=\"text-align: right;\">\n",
       "      <th></th>\n",
       "      <th>City</th>\n",
       "      <th>Country</th>\n",
       "      <th>Latitude</th>\n",
       "      <th>Longitude</th>\n",
       "      <th>Date</th>\n",
       "      <th>Wind_Speed</th>\n",
       "      <th>Pressure</th>\n",
       "      <th>Humidity</th>\n",
       "      <th>Temperature</th>\n",
       "      <th>Cloudiness</th>\n",
       "    </tr>\n",
       "  </thead>\n",
       "  <tbody>\n",
       "    <tr>\n",
       "      <th>0</th>\n",
       "      <td>Arrondissement de Figeac</td>\n",
       "      <td>FR</td>\n",
       "      <td>44.7500</td>\n",
       "      <td>1.9167</td>\n",
       "      <td>1.644208e+09</td>\n",
       "      <td>10.29</td>\n",
       "      <td>1025.0</td>\n",
       "      <td>97.0</td>\n",
       "      <td>42.19</td>\n",
       "      <td>100.0</td>\n",
       "    </tr>\n",
       "    <tr>\n",
       "      <th>1</th>\n",
       "      <td>Airai</td>\n",
       "      <td>TL</td>\n",
       "      <td>-8.9266</td>\n",
       "      <td>125.4092</td>\n",
       "      <td>1.644208e+09</td>\n",
       "      <td>2.59</td>\n",
       "      <td>1010.0</td>\n",
       "      <td>67.0</td>\n",
       "      <td>74.08</td>\n",
       "      <td>47.0</td>\n",
       "    </tr>\n",
       "    <tr>\n",
       "      <th>2</th>\n",
       "      <td>Mataura</td>\n",
       "      <td>NZ</td>\n",
       "      <td>-46.1927</td>\n",
       "      <td>168.8643</td>\n",
       "      <td>1.644208e+09</td>\n",
       "      <td>4.63</td>\n",
       "      <td>1018.0</td>\n",
       "      <td>38.0</td>\n",
       "      <td>60.48</td>\n",
       "      <td>6.0</td>\n",
       "    </tr>\n",
       "    <tr>\n",
       "      <th>3</th>\n",
       "      <td>Bereda</td>\n",
       "      <td>ES</td>\n",
       "      <td>43.2686</td>\n",
       "      <td>-7.5406</td>\n",
       "      <td>1.644208e+09</td>\n",
       "      <td>1.74</td>\n",
       "      <td>1034.0</td>\n",
       "      <td>98.0</td>\n",
       "      <td>38.66</td>\n",
       "      <td>60.0</td>\n",
       "    </tr>\n",
       "    <tr>\n",
       "      <th>4</th>\n",
       "      <td>Yambio</td>\n",
       "      <td>SS</td>\n",
       "      <td>4.5721</td>\n",
       "      <td>28.3955</td>\n",
       "      <td>1.644208e+09</td>\n",
       "      <td>4.25</td>\n",
       "      <td>1012.0</td>\n",
       "      <td>25.0</td>\n",
       "      <td>63.66</td>\n",
       "      <td>94.0</td>\n",
       "    </tr>\n",
       "    <tr>\n",
       "      <th>5</th>\n",
       "      <td>Vaini</td>\n",
       "      <td>TO</td>\n",
       "      <td>-21.2000</td>\n",
       "      <td>-175.2000</td>\n",
       "      <td>1.644208e+09</td>\n",
       "      <td>11.50</td>\n",
       "      <td>1010.0</td>\n",
       "      <td>100.0</td>\n",
       "      <td>75.36</td>\n",
       "      <td>100.0</td>\n",
       "    </tr>\n",
       "    <tr>\n",
       "      <th>6</th>\n",
       "      <td>Khatanga</td>\n",
       "      <td>RU</td>\n",
       "      <td>71.9667</td>\n",
       "      <td>102.5000</td>\n",
       "      <td>1.644208e+09</td>\n",
       "      <td>9.86</td>\n",
       "      <td>1032.0</td>\n",
       "      <td>98.0</td>\n",
       "      <td>-17.36</td>\n",
       "      <td>100.0</td>\n",
       "    </tr>\n",
       "    <tr>\n",
       "      <th>7</th>\n",
       "      <td>Chui</td>\n",
       "      <td>UY</td>\n",
       "      <td>-33.6971</td>\n",
       "      <td>-53.4616</td>\n",
       "      <td>1.644208e+09</td>\n",
       "      <td>13.44</td>\n",
       "      <td>1011.0</td>\n",
       "      <td>82.0</td>\n",
       "      <td>62.26</td>\n",
       "      <td>39.0</td>\n",
       "    </tr>\n",
       "    <tr>\n",
       "      <th>8</th>\n",
       "      <td>Port Alfred</td>\n",
       "      <td>ZA</td>\n",
       "      <td>-33.5906</td>\n",
       "      <td>26.8910</td>\n",
       "      <td>1.644208e+09</td>\n",
       "      <td>3.91</td>\n",
       "      <td>1013.0</td>\n",
       "      <td>77.0</td>\n",
       "      <td>73.33</td>\n",
       "      <td>69.0</td>\n",
       "    </tr>\n",
       "    <tr>\n",
       "      <th>9</th>\n",
       "      <td>Rikitea</td>\n",
       "      <td>PF</td>\n",
       "      <td>-23.1203</td>\n",
       "      <td>-134.9692</td>\n",
       "      <td>1.644208e+09</td>\n",
       "      <td>18.37</td>\n",
       "      <td>1020.0</td>\n",
       "      <td>72.0</td>\n",
       "      <td>79.00</td>\n",
       "      <td>12.0</td>\n",
       "    </tr>\n",
       "    <tr>\n",
       "      <th>10</th>\n",
       "      <td>Atuona</td>\n",
       "      <td>PF</td>\n",
       "      <td>-9.8000</td>\n",
       "      <td>-139.0333</td>\n",
       "      <td>1.644208e+09</td>\n",
       "      <td>18.05</td>\n",
       "      <td>1012.0</td>\n",
       "      <td>78.0</td>\n",
       "      <td>78.76</td>\n",
       "      <td>32.0</td>\n",
       "    </tr>\n",
       "    <tr>\n",
       "      <th>11</th>\n",
       "      <td>Bengkulu</td>\n",
       "      <td>ID</td>\n",
       "      <td>-3.8004</td>\n",
       "      <td>102.2655</td>\n",
       "      <td>1.644208e+09</td>\n",
       "      <td>11.45</td>\n",
       "      <td>1011.0</td>\n",
       "      <td>65.0</td>\n",
       "      <td>83.26</td>\n",
       "      <td>94.0</td>\n",
       "    </tr>\n",
       "    <tr>\n",
       "      <th>12</th>\n",
       "      <td>Nikolskoye</td>\n",
       "      <td>RU</td>\n",
       "      <td>59.7035</td>\n",
       "      <td>30.7861</td>\n",
       "      <td>1.644208e+09</td>\n",
       "      <td>7.11</td>\n",
       "      <td>991.0</td>\n",
       "      <td>97.0</td>\n",
       "      <td>34.14</td>\n",
       "      <td>100.0</td>\n",
       "    </tr>\n",
       "    <tr>\n",
       "      <th>13</th>\n",
       "      <td>Grindavik</td>\n",
       "      <td>IS</td>\n",
       "      <td>63.8424</td>\n",
       "      <td>-22.4338</td>\n",
       "      <td>1.644208e+09</td>\n",
       "      <td>61.00</td>\n",
       "      <td>967.0</td>\n",
       "      <td>100.0</td>\n",
       "      <td>34.27</td>\n",
       "      <td>100.0</td>\n",
       "    </tr>\n",
       "    <tr>\n",
       "      <th>14</th>\n",
       "      <td>Upernavik</td>\n",
       "      <td>GL</td>\n",
       "      <td>72.7868</td>\n",
       "      <td>-56.1549</td>\n",
       "      <td>1.644208e+09</td>\n",
       "      <td>8.72</td>\n",
       "      <td>990.0</td>\n",
       "      <td>100.0</td>\n",
       "      <td>-13.76</td>\n",
       "      <td>100.0</td>\n",
       "    </tr>\n",
       "    <tr>\n",
       "      <th>15</th>\n",
       "      <td>Qaanaaq</td>\n",
       "      <td>GL</td>\n",
       "      <td>77.4840</td>\n",
       "      <td>-69.3632</td>\n",
       "      <td>1.644208e+09</td>\n",
       "      <td>7.00</td>\n",
       "      <td>998.0</td>\n",
       "      <td>59.0</td>\n",
       "      <td>-11.63</td>\n",
       "      <td>28.0</td>\n",
       "    </tr>\n",
       "    <tr>\n",
       "      <th>16</th>\n",
       "      <td>Washington</td>\n",
       "      <td>US</td>\n",
       "      <td>47.5001</td>\n",
       "      <td>-120.5015</td>\n",
       "      <td>1.644207e+09</td>\n",
       "      <td>1.92</td>\n",
       "      <td>1031.0</td>\n",
       "      <td>86.0</td>\n",
       "      <td>28.98</td>\n",
       "      <td>11.0</td>\n",
       "    </tr>\n",
       "    <tr>\n",
       "      <th>17</th>\n",
       "      <td>Busselton</td>\n",
       "      <td>AU</td>\n",
       "      <td>-33.6500</td>\n",
       "      <td>115.3333</td>\n",
       "      <td>1.644208e+09</td>\n",
       "      <td>19.86</td>\n",
       "      <td>1009.0</td>\n",
       "      <td>42.0</td>\n",
       "      <td>69.04</td>\n",
       "      <td>61.0</td>\n",
       "    </tr>\n",
       "    <tr>\n",
       "      <th>18</th>\n",
       "      <td>Ushuaia</td>\n",
       "      <td>AR</td>\n",
       "      <td>-54.8000</td>\n",
       "      <td>-68.3000</td>\n",
       "      <td>1.644208e+09</td>\n",
       "      <td>11.50</td>\n",
       "      <td>1005.0</td>\n",
       "      <td>72.0</td>\n",
       "      <td>60.46</td>\n",
       "      <td>40.0</td>\n",
       "    </tr>\n",
       "    <tr>\n",
       "      <th>19</th>\n",
       "      <td>Bali</td>\n",
       "      <td>ID</td>\n",
       "      <td>-8.5000</td>\n",
       "      <td>115.0000</td>\n",
       "      <td>1.644208e+09</td>\n",
       "      <td>4.03</td>\n",
       "      <td>1008.0</td>\n",
       "      <td>64.0</td>\n",
       "      <td>86.23</td>\n",
       "      <td>64.0</td>\n",
       "    </tr>\n",
       "    <tr>\n",
       "      <th>20</th>\n",
       "      <td>taolanaro</td>\n",
       "      <td>None</td>\n",
       "      <td>NaN</td>\n",
       "      <td>NaN</td>\n",
       "      <td>NaN</td>\n",
       "      <td>NaN</td>\n",
       "      <td>NaN</td>\n",
       "      <td>NaN</td>\n",
       "      <td>NaN</td>\n",
       "      <td>NaN</td>\n",
       "    </tr>\n",
       "    <tr>\n",
       "      <th>21</th>\n",
       "      <td>Marsh Harbour</td>\n",
       "      <td>BS</td>\n",
       "      <td>26.5412</td>\n",
       "      <td>-77.0636</td>\n",
       "      <td>1.644208e+09</td>\n",
       "      <td>12.66</td>\n",
       "      <td>1020.0</td>\n",
       "      <td>71.0</td>\n",
       "      <td>73.78</td>\n",
       "      <td>27.0</td>\n",
       "    </tr>\n",
       "    <tr>\n",
       "      <th>22</th>\n",
       "      <td>Saskylakh</td>\n",
       "      <td>RU</td>\n",
       "      <td>71.9167</td>\n",
       "      <td>114.0833</td>\n",
       "      <td>1.644208e+09</td>\n",
       "      <td>4.34</td>\n",
       "      <td>1029.0</td>\n",
       "      <td>100.0</td>\n",
       "      <td>-26.64</td>\n",
       "      <td>92.0</td>\n",
       "    </tr>\n",
       "    <tr>\n",
       "      <th>23</th>\n",
       "      <td>Cidreira</td>\n",
       "      <td>BR</td>\n",
       "      <td>-30.1811</td>\n",
       "      <td>-50.2056</td>\n",
       "      <td>1.644208e+09</td>\n",
       "      <td>8.16</td>\n",
       "      <td>1013.0</td>\n",
       "      <td>74.0</td>\n",
       "      <td>67.41</td>\n",
       "      <td>6.0</td>\n",
       "    </tr>\n",
       "    <tr>\n",
       "      <th>24</th>\n",
       "      <td>Cape Town</td>\n",
       "      <td>ZA</td>\n",
       "      <td>-33.9258</td>\n",
       "      <td>18.4232</td>\n",
       "      <td>1.644208e+09</td>\n",
       "      <td>1.99</td>\n",
       "      <td>1015.0</td>\n",
       "      <td>88.0</td>\n",
       "      <td>62.78</td>\n",
       "      <td>75.0</td>\n",
       "    </tr>\n",
       "    <tr>\n",
       "      <th>25</th>\n",
       "      <td>Abalak</td>\n",
       "      <td>RU</td>\n",
       "      <td>58.1286</td>\n",
       "      <td>68.5944</td>\n",
       "      <td>1.644208e+09</td>\n",
       "      <td>8.23</td>\n",
       "      <td>1022.0</td>\n",
       "      <td>87.0</td>\n",
       "      <td>5.23</td>\n",
       "      <td>100.0</td>\n",
       "    </tr>\n",
       "    <tr>\n",
       "      <th>26</th>\n",
       "      <td>Hermanus</td>\n",
       "      <td>ZA</td>\n",
       "      <td>-34.4187</td>\n",
       "      <td>19.2345</td>\n",
       "      <td>1.644208e+09</td>\n",
       "      <td>4.00</td>\n",
       "      <td>1014.0</td>\n",
       "      <td>93.0</td>\n",
       "      <td>66.79</td>\n",
       "      <td>55.0</td>\n",
       "    </tr>\n",
       "    <tr>\n",
       "      <th>27</th>\n",
       "      <td>Watertown</td>\n",
       "      <td>US</td>\n",
       "      <td>42.3709</td>\n",
       "      <td>-71.1828</td>\n",
       "      <td>1.644208e+09</td>\n",
       "      <td>0.00</td>\n",
       "      <td>1034.0</td>\n",
       "      <td>87.0</td>\n",
       "      <td>17.91</td>\n",
       "      <td>0.0</td>\n",
       "    </tr>\n",
       "    <tr>\n",
       "      <th>28</th>\n",
       "      <td>Punta Arenas</td>\n",
       "      <td>CL</td>\n",
       "      <td>-53.1500</td>\n",
       "      <td>-70.9167</td>\n",
       "      <td>1.644208e+09</td>\n",
       "      <td>8.05</td>\n",
       "      <td>1004.0</td>\n",
       "      <td>82.0</td>\n",
       "      <td>53.71</td>\n",
       "      <td>75.0</td>\n",
       "    </tr>\n",
       "    <tr>\n",
       "      <th>29</th>\n",
       "      <td>Longyearbyen</td>\n",
       "      <td>SJ</td>\n",
       "      <td>78.2186</td>\n",
       "      <td>15.6401</td>\n",
       "      <td>1.644208e+09</td>\n",
       "      <td>4.61</td>\n",
       "      <td>988.0</td>\n",
       "      <td>73.0</td>\n",
       "      <td>17.44</td>\n",
       "      <td>0.0</td>\n",
       "    </tr>\n",
       "    <tr>\n",
       "      <th>30</th>\n",
       "      <td>Atikokan</td>\n",
       "      <td>CA</td>\n",
       "      <td>48.7555</td>\n",
       "      <td>-91.6216</td>\n",
       "      <td>1.644208e+09</td>\n",
       "      <td>2.89</td>\n",
       "      <td>1028.0</td>\n",
       "      <td>100.0</td>\n",
       "      <td>-9.99</td>\n",
       "      <td>75.0</td>\n",
       "    </tr>\n",
       "    <tr>\n",
       "      <th>31</th>\n",
       "      <td>Hong Kong</td>\n",
       "      <td>HK</td>\n",
       "      <td>22.2855</td>\n",
       "      <td>114.1577</td>\n",
       "      <td>1.644208e+09</td>\n",
       "      <td>5.99</td>\n",
       "      <td>1016.0</td>\n",
       "      <td>91.0</td>\n",
       "      <td>62.47</td>\n",
       "      <td>100.0</td>\n",
       "    </tr>\n",
       "    <tr>\n",
       "      <th>32</th>\n",
       "      <td>Iberia</td>\n",
       "      <td>US</td>\n",
       "      <td>29.9502</td>\n",
       "      <td>-91.7507</td>\n",
       "      <td>1.644208e+09</td>\n",
       "      <td>0.00</td>\n",
       "      <td>1024.0</td>\n",
       "      <td>75.0</td>\n",
       "      <td>40.84</td>\n",
       "      <td>0.0</td>\n",
       "    </tr>\n",
       "    <tr>\n",
       "      <th>33</th>\n",
       "      <td>Jamestown</td>\n",
       "      <td>US</td>\n",
       "      <td>42.0970</td>\n",
       "      <td>-79.2353</td>\n",
       "      <td>1.644208e+09</td>\n",
       "      <td>8.05</td>\n",
       "      <td>1023.0</td>\n",
       "      <td>45.0</td>\n",
       "      <td>24.96</td>\n",
       "      <td>0.0</td>\n",
       "    </tr>\n",
       "    <tr>\n",
       "      <th>34</th>\n",
       "      <td>Hobart</td>\n",
       "      <td>AU</td>\n",
       "      <td>-42.8794</td>\n",
       "      <td>147.3294</td>\n",
       "      <td>1.644208e+09</td>\n",
       "      <td>1.01</td>\n",
       "      <td>1023.0</td>\n",
       "      <td>46.0</td>\n",
       "      <td>76.73</td>\n",
       "      <td>20.0</td>\n",
       "    </tr>\n",
       "    <tr>\n",
       "      <th>35</th>\n",
       "      <td>Adamantas</td>\n",
       "      <td>GR</td>\n",
       "      <td>36.7333</td>\n",
       "      <td>24.4333</td>\n",
       "      <td>1.644208e+09</td>\n",
       "      <td>15.61</td>\n",
       "      <td>1019.0</td>\n",
       "      <td>77.0</td>\n",
       "      <td>56.62</td>\n",
       "      <td>47.0</td>\n",
       "    </tr>\n",
       "    <tr>\n",
       "      <th>36</th>\n",
       "      <td>utiroa</td>\n",
       "      <td>None</td>\n",
       "      <td>NaN</td>\n",
       "      <td>NaN</td>\n",
       "      <td>NaN</td>\n",
       "      <td>NaN</td>\n",
       "      <td>NaN</td>\n",
       "      <td>NaN</td>\n",
       "      <td>NaN</td>\n",
       "      <td>NaN</td>\n",
       "    </tr>\n",
       "    <tr>\n",
       "      <th>37</th>\n",
       "      <td>Rocha</td>\n",
       "      <td>UY</td>\n",
       "      <td>-34.4833</td>\n",
       "      <td>-54.3333</td>\n",
       "      <td>1.644208e+09</td>\n",
       "      <td>15.01</td>\n",
       "      <td>1011.0</td>\n",
       "      <td>81.0</td>\n",
       "      <td>63.54</td>\n",
       "      <td>99.0</td>\n",
       "    </tr>\n",
       "    <tr>\n",
       "      <th>38</th>\n",
       "      <td>Chokurdakh</td>\n",
       "      <td>RU</td>\n",
       "      <td>70.6333</td>\n",
       "      <td>147.9167</td>\n",
       "      <td>1.644208e+09</td>\n",
       "      <td>3.74</td>\n",
       "      <td>1028.0</td>\n",
       "      <td>99.0</td>\n",
       "      <td>-40.05</td>\n",
       "      <td>83.0</td>\n",
       "    </tr>\n",
       "    <tr>\n",
       "      <th>39</th>\n",
       "      <td>Thompson</td>\n",
       "      <td>CA</td>\n",
       "      <td>55.7435</td>\n",
       "      <td>-97.8558</td>\n",
       "      <td>1.644208e+09</td>\n",
       "      <td>4.61</td>\n",
       "      <td>1013.0</td>\n",
       "      <td>77.0</td>\n",
       "      <td>-5.64</td>\n",
       "      <td>75.0</td>\n",
       "    </tr>\n",
       "    <tr>\n",
       "      <th>40</th>\n",
       "      <td>Kindu</td>\n",
       "      <td>CD</td>\n",
       "      <td>-2.9500</td>\n",
       "      <td>25.9500</td>\n",
       "      <td>1.644208e+09</td>\n",
       "      <td>4.07</td>\n",
       "      <td>1012.0</td>\n",
       "      <td>99.0</td>\n",
       "      <td>69.01</td>\n",
       "      <td>100.0</td>\n",
       "    </tr>\n",
       "    <tr>\n",
       "      <th>41</th>\n",
       "      <td>Albany</td>\n",
       "      <td>US</td>\n",
       "      <td>42.6001</td>\n",
       "      <td>-73.9662</td>\n",
       "      <td>1.644208e+09</td>\n",
       "      <td>3.24</td>\n",
       "      <td>1028.0</td>\n",
       "      <td>78.0</td>\n",
       "      <td>16.38</td>\n",
       "      <td>11.0</td>\n",
       "    </tr>\n",
       "    <tr>\n",
       "      <th>42</th>\n",
       "      <td>Tasiilaq</td>\n",
       "      <td>GL</td>\n",
       "      <td>65.6145</td>\n",
       "      <td>-37.6368</td>\n",
       "      <td>1.644208e+09</td>\n",
       "      <td>60.87</td>\n",
       "      <td>970.0</td>\n",
       "      <td>56.0</td>\n",
       "      <td>21.36</td>\n",
       "      <td>100.0</td>\n",
       "    </tr>\n",
       "    <tr>\n",
       "      <th>43</th>\n",
       "      <td>Semporna</td>\n",
       "      <td>MY</td>\n",
       "      <td>4.4818</td>\n",
       "      <td>118.6112</td>\n",
       "      <td>1.644208e+09</td>\n",
       "      <td>6.08</td>\n",
       "      <td>1011.0</td>\n",
       "      <td>70.0</td>\n",
       "      <td>88.00</td>\n",
       "      <td>100.0</td>\n",
       "    </tr>\n",
       "    <tr>\n",
       "      <th>44</th>\n",
       "      <td>Bluff</td>\n",
       "      <td>NZ</td>\n",
       "      <td>-46.6000</td>\n",
       "      <td>168.3333</td>\n",
       "      <td>1.644208e+09</td>\n",
       "      <td>13.67</td>\n",
       "      <td>1021.0</td>\n",
       "      <td>67.0</td>\n",
       "      <td>60.80</td>\n",
       "      <td>0.0</td>\n",
       "    </tr>\n",
       "    <tr>\n",
       "      <th>45</th>\n",
       "      <td>matameye</td>\n",
       "      <td>None</td>\n",
       "      <td>NaN</td>\n",
       "      <td>NaN</td>\n",
       "      <td>NaN</td>\n",
       "      <td>NaN</td>\n",
       "      <td>NaN</td>\n",
       "      <td>NaN</td>\n",
       "      <td>NaN</td>\n",
       "      <td>NaN</td>\n",
       "    </tr>\n",
       "    <tr>\n",
       "      <th>46</th>\n",
       "      <td>Saint-Philippe</td>\n",
       "      <td>RE</td>\n",
       "      <td>-21.3585</td>\n",
       "      <td>55.7679</td>\n",
       "      <td>1.644208e+09</td>\n",
       "      <td>15.12</td>\n",
       "      <td>1014.0</td>\n",
       "      <td>83.0</td>\n",
       "      <td>82.44</td>\n",
       "      <td>94.0</td>\n",
       "    </tr>\n",
       "    <tr>\n",
       "      <th>47</th>\n",
       "      <td>Mogzon</td>\n",
       "      <td>RU</td>\n",
       "      <td>51.7435</td>\n",
       "      <td>111.9606</td>\n",
       "      <td>1.644208e+09</td>\n",
       "      <td>9.04</td>\n",
       "      <td>1024.0</td>\n",
       "      <td>79.0</td>\n",
       "      <td>18.73</td>\n",
       "      <td>83.0</td>\n",
       "    </tr>\n",
       "    <tr>\n",
       "      <th>48</th>\n",
       "      <td>Barra de Tecoanapa</td>\n",
       "      <td>MX</td>\n",
       "      <td>16.5167</td>\n",
       "      <td>-98.7500</td>\n",
       "      <td>1.644208e+09</td>\n",
       "      <td>5.35</td>\n",
       "      <td>1014.0</td>\n",
       "      <td>75.0</td>\n",
       "      <td>77.72</td>\n",
       "      <td>28.0</td>\n",
       "    </tr>\n",
       "    <tr>\n",
       "      <th>49</th>\n",
       "      <td>Talnakh</td>\n",
       "      <td>RU</td>\n",
       "      <td>69.4865</td>\n",
       "      <td>88.3972</td>\n",
       "      <td>1.644208e+09</td>\n",
       "      <td>1.52</td>\n",
       "      <td>1034.0</td>\n",
       "      <td>97.0</td>\n",
       "      <td>-27.45</td>\n",
       "      <td>56.0</td>\n",
       "    </tr>\n",
       "    <tr>\n",
       "      <th>50</th>\n",
       "      <td>Vieques</td>\n",
       "      <td>PR</td>\n",
       "      <td>18.4250</td>\n",
       "      <td>-65.8329</td>\n",
       "      <td>1.644208e+09</td>\n",
       "      <td>10.36</td>\n",
       "      <td>1018.0</td>\n",
       "      <td>94.0</td>\n",
       "      <td>71.42</td>\n",
       "      <td>100.0</td>\n",
       "    </tr>\n",
       "    <tr>\n",
       "      <th>51</th>\n",
       "      <td>Cabo San Lucas</td>\n",
       "      <td>MX</td>\n",
       "      <td>22.8909</td>\n",
       "      <td>-109.9124</td>\n",
       "      <td>1.644208e+09</td>\n",
       "      <td>5.32</td>\n",
       "      <td>1012.0</td>\n",
       "      <td>74.0</td>\n",
       "      <td>65.46</td>\n",
       "      <td>0.0</td>\n",
       "    </tr>\n",
       "    <tr>\n",
       "      <th>52</th>\n",
       "      <td>Narsaq</td>\n",
       "      <td>GL</td>\n",
       "      <td>60.9167</td>\n",
       "      <td>-46.0500</td>\n",
       "      <td>1.644208e+09</td>\n",
       "      <td>11.83</td>\n",
       "      <td>977.0</td>\n",
       "      <td>76.0</td>\n",
       "      <td>10.62</td>\n",
       "      <td>100.0</td>\n",
       "    </tr>\n",
       "    <tr>\n",
       "      <th>53</th>\n",
       "      <td>sentyabrskiy</td>\n",
       "      <td>None</td>\n",
       "      <td>NaN</td>\n",
       "      <td>NaN</td>\n",
       "      <td>NaN</td>\n",
       "      <td>NaN</td>\n",
       "      <td>NaN</td>\n",
       "      <td>NaN</td>\n",
       "      <td>NaN</td>\n",
       "      <td>NaN</td>\n",
       "    </tr>\n",
       "    <tr>\n",
       "      <th>54</th>\n",
       "      <td>Kazygurt</td>\n",
       "      <td>KZ</td>\n",
       "      <td>41.7589</td>\n",
       "      <td>69.3864</td>\n",
       "      <td>1.644208e+09</td>\n",
       "      <td>4.74</td>\n",
       "      <td>1029.0</td>\n",
       "      <td>95.0</td>\n",
       "      <td>33.73</td>\n",
       "      <td>100.0</td>\n",
       "    </tr>\n",
       "    <tr>\n",
       "      <th>55</th>\n",
       "      <td>belushya guba</td>\n",
       "      <td>None</td>\n",
       "      <td>NaN</td>\n",
       "      <td>NaN</td>\n",
       "      <td>NaN</td>\n",
       "      <td>NaN</td>\n",
       "      <td>NaN</td>\n",
       "      <td>NaN</td>\n",
       "      <td>NaN</td>\n",
       "      <td>NaN</td>\n",
       "    </tr>\n",
       "    <tr>\n",
       "      <th>56</th>\n",
       "      <td>tidore</td>\n",
       "      <td>None</td>\n",
       "      <td>NaN</td>\n",
       "      <td>NaN</td>\n",
       "      <td>NaN</td>\n",
       "      <td>NaN</td>\n",
       "      <td>NaN</td>\n",
       "      <td>NaN</td>\n",
       "      <td>NaN</td>\n",
       "      <td>NaN</td>\n",
       "    </tr>\n",
       "    <tr>\n",
       "      <th>57</th>\n",
       "      <td>Nouadhibou</td>\n",
       "      <td>MR</td>\n",
       "      <td>20.9310</td>\n",
       "      <td>-17.0347</td>\n",
       "      <td>1.644208e+09</td>\n",
       "      <td>10.36</td>\n",
       "      <td>1013.0</td>\n",
       "      <td>94.0</td>\n",
       "      <td>62.58</td>\n",
       "      <td>95.0</td>\n",
       "    </tr>\n",
       "    <tr>\n",
       "      <th>58</th>\n",
       "      <td>Kahului</td>\n",
       "      <td>US</td>\n",
       "      <td>20.8947</td>\n",
       "      <td>-156.4700</td>\n",
       "      <td>1.644208e+09</td>\n",
       "      <td>20.71</td>\n",
       "      <td>1017.0</td>\n",
       "      <td>65.0</td>\n",
       "      <td>73.67</td>\n",
       "      <td>0.0</td>\n",
       "    </tr>\n",
       "    <tr>\n",
       "      <th>59</th>\n",
       "      <td>Ous</td>\n",
       "      <td>RU</td>\n",
       "      <td>60.9058</td>\n",
       "      <td>61.5186</td>\n",
       "      <td>1.644208e+09</td>\n",
       "      <td>3.29</td>\n",
       "      <td>1023.0</td>\n",
       "      <td>100.0</td>\n",
       "      <td>-1.16</td>\n",
       "      <td>100.0</td>\n",
       "    </tr>\n",
       "  </tbody>\n",
       "</table>\n",
       "</div>"
      ],
      "text/plain": [
       "                        City Country  Latitude  Longitude          Date  \\\n",
       "0   Arrondissement de Figeac      FR   44.7500     1.9167  1.644208e+09   \n",
       "1                      Airai      TL   -8.9266   125.4092  1.644208e+09   \n",
       "2                    Mataura      NZ  -46.1927   168.8643  1.644208e+09   \n",
       "3                     Bereda      ES   43.2686    -7.5406  1.644208e+09   \n",
       "4                     Yambio      SS    4.5721    28.3955  1.644208e+09   \n",
       "5                      Vaini      TO  -21.2000  -175.2000  1.644208e+09   \n",
       "6                   Khatanga      RU   71.9667   102.5000  1.644208e+09   \n",
       "7                       Chui      UY  -33.6971   -53.4616  1.644208e+09   \n",
       "8                Port Alfred      ZA  -33.5906    26.8910  1.644208e+09   \n",
       "9                    Rikitea      PF  -23.1203  -134.9692  1.644208e+09   \n",
       "10                    Atuona      PF   -9.8000  -139.0333  1.644208e+09   \n",
       "11                  Bengkulu      ID   -3.8004   102.2655  1.644208e+09   \n",
       "12                Nikolskoye      RU   59.7035    30.7861  1.644208e+09   \n",
       "13                 Grindavik      IS   63.8424   -22.4338  1.644208e+09   \n",
       "14                 Upernavik      GL   72.7868   -56.1549  1.644208e+09   \n",
       "15                   Qaanaaq      GL   77.4840   -69.3632  1.644208e+09   \n",
       "16                Washington      US   47.5001  -120.5015  1.644207e+09   \n",
       "17                 Busselton      AU  -33.6500   115.3333  1.644208e+09   \n",
       "18                   Ushuaia      AR  -54.8000   -68.3000  1.644208e+09   \n",
       "19                      Bali      ID   -8.5000   115.0000  1.644208e+09   \n",
       "20                 taolanaro    None       NaN        NaN           NaN   \n",
       "21             Marsh Harbour      BS   26.5412   -77.0636  1.644208e+09   \n",
       "22                 Saskylakh      RU   71.9167   114.0833  1.644208e+09   \n",
       "23                  Cidreira      BR  -30.1811   -50.2056  1.644208e+09   \n",
       "24                 Cape Town      ZA  -33.9258    18.4232  1.644208e+09   \n",
       "25                    Abalak      RU   58.1286    68.5944  1.644208e+09   \n",
       "26                  Hermanus      ZA  -34.4187    19.2345  1.644208e+09   \n",
       "27                 Watertown      US   42.3709   -71.1828  1.644208e+09   \n",
       "28              Punta Arenas      CL  -53.1500   -70.9167  1.644208e+09   \n",
       "29              Longyearbyen      SJ   78.2186    15.6401  1.644208e+09   \n",
       "30                  Atikokan      CA   48.7555   -91.6216  1.644208e+09   \n",
       "31                 Hong Kong      HK   22.2855   114.1577  1.644208e+09   \n",
       "32                    Iberia      US   29.9502   -91.7507  1.644208e+09   \n",
       "33                 Jamestown      US   42.0970   -79.2353  1.644208e+09   \n",
       "34                    Hobart      AU  -42.8794   147.3294  1.644208e+09   \n",
       "35                 Adamantas      GR   36.7333    24.4333  1.644208e+09   \n",
       "36                    utiroa    None       NaN        NaN           NaN   \n",
       "37                     Rocha      UY  -34.4833   -54.3333  1.644208e+09   \n",
       "38                Chokurdakh      RU   70.6333   147.9167  1.644208e+09   \n",
       "39                  Thompson      CA   55.7435   -97.8558  1.644208e+09   \n",
       "40                     Kindu      CD   -2.9500    25.9500  1.644208e+09   \n",
       "41                    Albany      US   42.6001   -73.9662  1.644208e+09   \n",
       "42                  Tasiilaq      GL   65.6145   -37.6368  1.644208e+09   \n",
       "43                  Semporna      MY    4.4818   118.6112  1.644208e+09   \n",
       "44                     Bluff      NZ  -46.6000   168.3333  1.644208e+09   \n",
       "45                  matameye    None       NaN        NaN           NaN   \n",
       "46            Saint-Philippe      RE  -21.3585    55.7679  1.644208e+09   \n",
       "47                    Mogzon      RU   51.7435   111.9606  1.644208e+09   \n",
       "48        Barra de Tecoanapa      MX   16.5167   -98.7500  1.644208e+09   \n",
       "49                   Talnakh      RU   69.4865    88.3972  1.644208e+09   \n",
       "50                   Vieques      PR   18.4250   -65.8329  1.644208e+09   \n",
       "51            Cabo San Lucas      MX   22.8909  -109.9124  1.644208e+09   \n",
       "52                    Narsaq      GL   60.9167   -46.0500  1.644208e+09   \n",
       "53              sentyabrskiy    None       NaN        NaN           NaN   \n",
       "54                  Kazygurt      KZ   41.7589    69.3864  1.644208e+09   \n",
       "55             belushya guba    None       NaN        NaN           NaN   \n",
       "56                    tidore    None       NaN        NaN           NaN   \n",
       "57                Nouadhibou      MR   20.9310   -17.0347  1.644208e+09   \n",
       "58                   Kahului      US   20.8947  -156.4700  1.644208e+09   \n",
       "59                       Ous      RU   60.9058    61.5186  1.644208e+09   \n",
       "\n",
       "    Wind_Speed  Pressure  Humidity  Temperature  Cloudiness  \n",
       "0        10.29    1025.0      97.0        42.19       100.0  \n",
       "1         2.59    1010.0      67.0        74.08        47.0  \n",
       "2         4.63    1018.0      38.0        60.48         6.0  \n",
       "3         1.74    1034.0      98.0        38.66        60.0  \n",
       "4         4.25    1012.0      25.0        63.66        94.0  \n",
       "5        11.50    1010.0     100.0        75.36       100.0  \n",
       "6         9.86    1032.0      98.0       -17.36       100.0  \n",
       "7        13.44    1011.0      82.0        62.26        39.0  \n",
       "8         3.91    1013.0      77.0        73.33        69.0  \n",
       "9        18.37    1020.0      72.0        79.00        12.0  \n",
       "10       18.05    1012.0      78.0        78.76        32.0  \n",
       "11       11.45    1011.0      65.0        83.26        94.0  \n",
       "12        7.11     991.0      97.0        34.14       100.0  \n",
       "13       61.00     967.0     100.0        34.27       100.0  \n",
       "14        8.72     990.0     100.0       -13.76       100.0  \n",
       "15        7.00     998.0      59.0       -11.63        28.0  \n",
       "16        1.92    1031.0      86.0        28.98        11.0  \n",
       "17       19.86    1009.0      42.0        69.04        61.0  \n",
       "18       11.50    1005.0      72.0        60.46        40.0  \n",
       "19        4.03    1008.0      64.0        86.23        64.0  \n",
       "20         NaN       NaN       NaN          NaN         NaN  \n",
       "21       12.66    1020.0      71.0        73.78        27.0  \n",
       "22        4.34    1029.0     100.0       -26.64        92.0  \n",
       "23        8.16    1013.0      74.0        67.41         6.0  \n",
       "24        1.99    1015.0      88.0        62.78        75.0  \n",
       "25        8.23    1022.0      87.0         5.23       100.0  \n",
       "26        4.00    1014.0      93.0        66.79        55.0  \n",
       "27        0.00    1034.0      87.0        17.91         0.0  \n",
       "28        8.05    1004.0      82.0        53.71        75.0  \n",
       "29        4.61     988.0      73.0        17.44         0.0  \n",
       "30        2.89    1028.0     100.0        -9.99        75.0  \n",
       "31        5.99    1016.0      91.0        62.47       100.0  \n",
       "32        0.00    1024.0      75.0        40.84         0.0  \n",
       "33        8.05    1023.0      45.0        24.96         0.0  \n",
       "34        1.01    1023.0      46.0        76.73        20.0  \n",
       "35       15.61    1019.0      77.0        56.62        47.0  \n",
       "36         NaN       NaN       NaN          NaN         NaN  \n",
       "37       15.01    1011.0      81.0        63.54        99.0  \n",
       "38        3.74    1028.0      99.0       -40.05        83.0  \n",
       "39        4.61    1013.0      77.0        -5.64        75.0  \n",
       "40        4.07    1012.0      99.0        69.01       100.0  \n",
       "41        3.24    1028.0      78.0        16.38        11.0  \n",
       "42       60.87     970.0      56.0        21.36       100.0  \n",
       "43        6.08    1011.0      70.0        88.00       100.0  \n",
       "44       13.67    1021.0      67.0        60.80         0.0  \n",
       "45         NaN       NaN       NaN          NaN         NaN  \n",
       "46       15.12    1014.0      83.0        82.44        94.0  \n",
       "47        9.04    1024.0      79.0        18.73        83.0  \n",
       "48        5.35    1014.0      75.0        77.72        28.0  \n",
       "49        1.52    1034.0      97.0       -27.45        56.0  \n",
       "50       10.36    1018.0      94.0        71.42       100.0  \n",
       "51        5.32    1012.0      74.0        65.46         0.0  \n",
       "52       11.83     977.0      76.0        10.62       100.0  \n",
       "53         NaN       NaN       NaN          NaN         NaN  \n",
       "54        4.74    1029.0      95.0        33.73       100.0  \n",
       "55         NaN       NaN       NaN          NaN         NaN  \n",
       "56         NaN       NaN       NaN          NaN         NaN  \n",
       "57       10.36    1013.0      94.0        62.58        95.0  \n",
       "58       20.71    1017.0      65.0        73.67         0.0  \n",
       "59        3.29    1023.0     100.0        -1.16       100.0  "
      ]
     },
     "execution_count": 14,
     "metadata": {},
     "output_type": "execute_result"
    }
   ],
   "source": [
    "df = pd.DataFrame()\n",
    "\n",
    "df[\"City\"] = names\n",
    "df[\"Country\"] = countries\n",
    "df[\"Latitude\"] = lats\n",
    "df[\"Longitude\"] = lngs\n",
    "df[\"Date\"] = dates\n",
    "df[\"Wind_Speed\"] = winds\n",
    "df[\"Pressure\"] = pressures\n",
    "df[\"Humidity\"] = humids\n",
    "df[\"Temperature\"] = temps\n",
    "df[\"Cloudiness\"] = clouds\n",
    "\n",
    "df.head(190)"
   ]
  },
  {
   "cell_type": "code",
   "execution_count": 15,
   "metadata": {},
   "outputs": [
    {
     "name": "stdout",
     "output_type": "stream",
     "text": [
      "<class 'pandas.core.frame.DataFrame'>\n",
      "RangeIndex: 60 entries, 0 to 59\n",
      "Data columns (total 10 columns):\n",
      " #   Column       Non-Null Count  Dtype  \n",
      "---  ------       --------------  -----  \n",
      " 0   City         60 non-null     object \n",
      " 1   Country      54 non-null     object \n",
      " 2   Latitude     54 non-null     float64\n",
      " 3   Longitude    54 non-null     float64\n",
      " 4   Date         54 non-null     float64\n",
      " 5   Wind_Speed   54 non-null     float64\n",
      " 6   Pressure     54 non-null     float64\n",
      " 7   Humidity     54 non-null     float64\n",
      " 8   Temperature  54 non-null     float64\n",
      " 9   Cloudiness   54 non-null     float64\n",
      "dtypes: float64(8), object(2)\n",
      "memory usage: 4.8+ KB\n"
     ]
    }
   ],
   "source": [
    "df.info()"
   ]
  },
  {
   "cell_type": "code",
   "execution_count": 16,
   "metadata": {},
   "outputs": [],
   "source": [
    "df.to_csv(\"my_data_Elyssa.csv\", index=False)"
   ]
  },
  {
   "cell_type": "code",
   "execution_count": null,
   "metadata": {},
   "outputs": [],
   "source": []
  },
  {
   "cell_type": "markdown",
   "metadata": {},
   "source": [
    "### Convert Raw Data to DataFrame\n",
    "* Export the city data into a .csv.\n",
    "* Display the DataFrame"
   ]
  },
  {
   "cell_type": "code",
   "execution_count": null,
   "metadata": {},
   "outputs": [],
   "source": []
  },
  {
   "cell_type": "code",
   "execution_count": null,
   "metadata": {},
   "outputs": [],
   "source": []
  },
  {
   "cell_type": "markdown",
   "metadata": {},
   "source": [
    "## Inspect the data and remove the cities where the humidity > 100%.\n",
    "----\n",
    "Skip this step if there are no cities that have humidity > 100%. "
   ]
  },
  {
   "cell_type": "code",
   "execution_count": 17,
   "metadata": {},
   "outputs": [
    {
     "name": "stdout",
     "output_type": "stream",
     "text": [
      "<class 'pandas.core.frame.DataFrame'>\n",
      "RangeIndex: 60 entries, 0 to 59\n",
      "Data columns (total 10 columns):\n",
      " #   Column       Non-Null Count  Dtype  \n",
      "---  ------       --------------  -----  \n",
      " 0   City         60 non-null     object \n",
      " 1   Country      54 non-null     object \n",
      " 2   Latitude     54 non-null     float64\n",
      " 3   Longitude    54 non-null     float64\n",
      " 4   Date         54 non-null     float64\n",
      " 5   Wind_Speed   54 non-null     float64\n",
      " 6   Pressure     54 non-null     float64\n",
      " 7   Humidity     54 non-null     float64\n",
      " 8   Temperature  54 non-null     float64\n",
      " 9   Cloudiness   54 non-null     float64\n",
      "dtypes: float64(8), object(2)\n",
      "memory usage: 4.8+ KB\n"
     ]
    }
   ],
   "source": [
    "df.info()"
   ]
  },
  {
   "cell_type": "code",
   "execution_count": 18,
   "metadata": {},
   "outputs": [
    {
     "data": {
      "text/html": [
       "<div>\n",
       "<style scoped>\n",
       "    .dataframe tbody tr th:only-of-type {\n",
       "        vertical-align: middle;\n",
       "    }\n",
       "\n",
       "    .dataframe tbody tr th {\n",
       "        vertical-align: top;\n",
       "    }\n",
       "\n",
       "    .dataframe thead th {\n",
       "        text-align: right;\n",
       "    }\n",
       "</style>\n",
       "<table border=\"1\" class=\"dataframe\">\n",
       "  <thead>\n",
       "    <tr style=\"text-align: right;\">\n",
       "      <th></th>\n",
       "      <th>Latitude</th>\n",
       "      <th>Longitude</th>\n",
       "      <th>Date</th>\n",
       "      <th>Wind_Speed</th>\n",
       "      <th>Pressure</th>\n",
       "      <th>Humidity</th>\n",
       "      <th>Temperature</th>\n",
       "      <th>Cloudiness</th>\n",
       "    </tr>\n",
       "  </thead>\n",
       "  <tbody>\n",
       "    <tr>\n",
       "      <th>count</th>\n",
       "      <td>54.000000</td>\n",
       "      <td>54.000000</td>\n",
       "      <td>5.400000e+01</td>\n",
       "      <td>54.000000</td>\n",
       "      <td>54.000000</td>\n",
       "      <td>54.000000</td>\n",
       "      <td>54.000000</td>\n",
       "      <td>54.000000</td>\n",
       "    </tr>\n",
       "    <tr>\n",
       "      <th>mean</th>\n",
       "      <td>18.318335</td>\n",
       "      <td>0.931906</td>\n",
       "      <td>1.644208e+09</td>\n",
       "      <td>9.735926</td>\n",
       "      <td>1013.851852</td>\n",
       "      <td>78.981481</td>\n",
       "      <td>43.196481</td>\n",
       "      <td>60.240741</td>\n",
       "    </tr>\n",
       "    <tr>\n",
       "      <th>std</th>\n",
       "      <td>41.355865</td>\n",
       "      <td>92.972399</td>\n",
       "      <td>1.147091e+02</td>\n",
       "      <td>11.389862</td>\n",
       "      <td>14.762788</td>\n",
       "      <td>17.862674</td>\n",
       "      <td>34.812381</td>\n",
       "      <td>38.404469</td>\n",
       "    </tr>\n",
       "    <tr>\n",
       "      <th>min</th>\n",
       "      <td>-54.800000</td>\n",
       "      <td>-175.200000</td>\n",
       "      <td>1.644207e+09</td>\n",
       "      <td>0.000000</td>\n",
       "      <td>967.000000</td>\n",
       "      <td>25.000000</td>\n",
       "      <td>-40.050000</td>\n",
       "      <td>0.000000</td>\n",
       "    </tr>\n",
       "    <tr>\n",
       "      <th>25%</th>\n",
       "      <td>-21.318875</td>\n",
       "      <td>-71.116275</td>\n",
       "      <td>1.644208e+09</td>\n",
       "      <td>4.007500</td>\n",
       "      <td>1011.000000</td>\n",
       "      <td>71.250000</td>\n",
       "      <td>18.115000</td>\n",
       "      <td>27.250000</td>\n",
       "    </tr>\n",
       "    <tr>\n",
       "      <th>50%</th>\n",
       "      <td>22.588200</td>\n",
       "      <td>-2.811950</td>\n",
       "      <td>1.644208e+09</td>\n",
       "      <td>7.055000</td>\n",
       "      <td>1014.000000</td>\n",
       "      <td>78.500000</td>\n",
       "      <td>60.470000</td>\n",
       "      <td>72.000000</td>\n",
       "    </tr>\n",
       "    <tr>\n",
       "      <th>75%</th>\n",
       "      <td>54.743500</td>\n",
       "      <td>83.644500</td>\n",
       "      <td>1.644208e+09</td>\n",
       "      <td>11.500000</td>\n",
       "      <td>1023.000000</td>\n",
       "      <td>94.750000</td>\n",
       "      <td>70.825000</td>\n",
       "      <td>100.000000</td>\n",
       "    </tr>\n",
       "    <tr>\n",
       "      <th>max</th>\n",
       "      <td>78.218600</td>\n",
       "      <td>168.864300</td>\n",
       "      <td>1.644208e+09</td>\n",
       "      <td>61.000000</td>\n",
       "      <td>1034.000000</td>\n",
       "      <td>100.000000</td>\n",
       "      <td>88.000000</td>\n",
       "      <td>100.000000</td>\n",
       "    </tr>\n",
       "  </tbody>\n",
       "</table>\n",
       "</div>"
      ],
      "text/plain": [
       "        Latitude   Longitude          Date  Wind_Speed     Pressure  \\\n",
       "count  54.000000   54.000000  5.400000e+01   54.000000    54.000000   \n",
       "mean   18.318335    0.931906  1.644208e+09    9.735926  1013.851852   \n",
       "std    41.355865   92.972399  1.147091e+02   11.389862    14.762788   \n",
       "min   -54.800000 -175.200000  1.644207e+09    0.000000   967.000000   \n",
       "25%   -21.318875  -71.116275  1.644208e+09    4.007500  1011.000000   \n",
       "50%    22.588200   -2.811950  1.644208e+09    7.055000  1014.000000   \n",
       "75%    54.743500   83.644500  1.644208e+09   11.500000  1023.000000   \n",
       "max    78.218600  168.864300  1.644208e+09   61.000000  1034.000000   \n",
       "\n",
       "         Humidity  Temperature  Cloudiness  \n",
       "count   54.000000    54.000000   54.000000  \n",
       "mean    78.981481    43.196481   60.240741  \n",
       "std     17.862674    34.812381   38.404469  \n",
       "min     25.000000   -40.050000    0.000000  \n",
       "25%     71.250000    18.115000   27.250000  \n",
       "50%     78.500000    60.470000   72.000000  \n",
       "75%     94.750000    70.825000  100.000000  \n",
       "max    100.000000    88.000000  100.000000  "
      ]
     },
     "execution_count": 18,
     "metadata": {},
     "output_type": "execute_result"
    }
   ],
   "source": [
    "#  Get the indices of cities that have humidity over 100%.\n",
    "df.describe()"
   ]
  },
  {
   "cell_type": "code",
   "execution_count": 19,
   "metadata": {},
   "outputs": [],
   "source": [
    "# Make a new DataFrame equal to the city data to drop all humidity outliers by index.\n",
    "# Passing \"inplace=False\" will make a copy of the city_data DataFrame, which we call \"clean_city_data\".\n",
    "\n",
    "mask = df.Humidity <= 100\n",
    "df_sub = df.loc[mask].dropna().reset_index(drop=True)"
   ]
  },
  {
   "cell_type": "code",
   "execution_count": 20,
   "metadata": {},
   "outputs": [
    {
     "name": "stdout",
     "output_type": "stream",
     "text": [
      "<class 'pandas.core.frame.DataFrame'>\n",
      "RangeIndex: 54 entries, 0 to 53\n",
      "Data columns (total 10 columns):\n",
      " #   Column       Non-Null Count  Dtype  \n",
      "---  ------       --------------  -----  \n",
      " 0   City         54 non-null     object \n",
      " 1   Country      54 non-null     object \n",
      " 2   Latitude     54 non-null     float64\n",
      " 3   Longitude    54 non-null     float64\n",
      " 4   Date         54 non-null     float64\n",
      " 5   Wind_Speed   54 non-null     float64\n",
      " 6   Pressure     54 non-null     float64\n",
      " 7   Humidity     54 non-null     float64\n",
      " 8   Temperature  54 non-null     float64\n",
      " 9   Cloudiness   54 non-null     float64\n",
      "dtypes: float64(8), object(2)\n",
      "memory usage: 4.3+ KB\n"
     ]
    }
   ],
   "source": [
    "df_sub.info()"
   ]
  },
  {
   "cell_type": "markdown",
   "metadata": {},
   "source": [
    "## Plotting the Data\n",
    "* Use proper labeling of the plots using plot titles (including date of analysis) and axes labels.\n",
    "* Save the plotted figures as .pngs."
   ]
  },
  {
   "cell_type": "markdown",
   "metadata": {},
   "source": [
    "## Latitude vs. Temperature Plot"
   ]
  },
  {
   "cell_type": "code",
   "execution_count": 21,
   "metadata": {
    "scrolled": true
   },
   "outputs": [
    {
     "data": {
      "image/png": "[encoded data removed]",
      "text/plain": [
       "<Figure size 864x576 with 1 Axes>"
      ]
     },
     "metadata": {
      "needs_background": "light"
     },
     "output_type": "display_data"
    }
   ],
   "source": [
    "plt.figure(figsize=(12,8))\n",
    "\n",
    "plt.scatter(df_sub.Latitude, df_sub.Temperature, edgecolor=\"maroon\", color=\"r\")\n",
    "\n",
    "plt.title(\"Temperature vs Latitude\", fontweight=\"bold\", fontsize=16, fontname=\"Georgia\")\n",
    "plt.xlabel(\"Latitude\", fontname=\"Georgia\")\n",
    "plt.ylabel(\"Temperature (F)\", fontname=\"Georgia\")\n",
    "\n",
    "plt.grid(axis=\"both\", alpha=0.1)\n",
    "\n",
    "plt.tight_layout()\n",
    "plt.savefig(\"temp_lat_elyssa.png\")\n",
    "plt.show()"
   ]
  },
  {
   "cell_type": "markdown",
   "metadata": {},
   "source": [
    "## Latitude vs. Humidity Plot"
   ]
  },
  {
   "cell_type": "code",
   "execution_count": 22,
   "metadata": {},
   "outputs": [
    {
     "data": {
      "image/png": "[encoded data removed]",
      "text/plain": [
       "<Figure size 864x576 with 1 Axes>"
      ]
     },
     "metadata": {
      "needs_background": "light"
     },
     "output_type": "display_data"
    }
   ],
   "source": [
    "plt.figure(figsize=(12,8))\n",
    "\n",
    "plt.scatter(df_sub.Latitude, df_sub.Humidity, color=\"c\", edgecolor=\"b\")\n",
    "\n",
    "plt.title(\"Humidity vs Latitude\", fontweight=\"bold\", fontsize=16, fontname=\"Georgia\")\n",
    "plt.xlabel(\"Latitude\", fontname=\"Georgia\")\n",
    "plt.ylabel(\"Humidity (%)\", fontname=\"Georgia\")\n",
    "\n",
    "plt.grid(axis=\"both\", alpha=0.1)\n",
    "\n",
    "plt.tight_layout()\n",
    "plt.savefig(\"humid_lat_elyssa.png\")\n",
    "plt.show()"
   ]
  },
  {
   "cell_type": "markdown",
   "metadata": {},
   "source": [
    "## Latitude vs. Cloudiness Plot"
   ]
  },
  {
   "cell_type": "code",
   "execution_count": 23,
   "metadata": {},
   "outputs": [
    {
     "data": {
      "image/png": "[encoded data removed]",
      "text/plain": [
       "<Figure size 864x576 with 1 Axes>"
      ]
     },
     "metadata": {
      "needs_background": "light"
     },
     "output_type": "display_data"
    }
   ],
   "source": [
    "plt.figure(figsize=(12,8))\n",
    "\n",
    "plt.scatter(df_sub.Latitude, df_sub.Cloudiness, color=\"lime\", edgecolor=\"g\")\n",
    "\n",
    "plt.title(\"Latitude vs Cloudiness\", fontweight=\"bold\", fontsize=16, fontname=\"Georgia\")\n",
    "plt.xlabel(\"Latitude\", fontname=\"Georgia\")\n",
    "plt.ylabel(\"Cloudiness\", fontname=\"Georgia\")\n",
    "\n",
    "plt.grid(axis=\"both\", alpha=0.1)\n",
    "\n",
    "plt.tight_layout()\n",
    "plt.savefig(\"cloud_lat_elyssa.png\")\n",
    "plt.show()"
   ]
  },
  {
   "cell_type": "markdown",
   "metadata": {},
   "source": [
    "## Latitude vs. Wind Speed Plot"
   ]
  },
  {
   "cell_type": "code",
   "execution_count": 24,
   "metadata": {},
   "outputs": [
    {
     "data": {
      "image/png": "[encoded data removed]",
      "text/plain": [
       "<Figure size 864x576 with 1 Axes>"
      ]
     },
     "metadata": {
      "needs_background": "light"
     },
     "output_type": "display_data"
    }
   ],
   "source": [
    "plt.figure(figsize=(12,8))\n",
    "\n",
    "plt.scatter(df_sub.Latitude, df_sub.Wind_Speed, color=\"gold\", edgecolor=\"orange\")\n",
    "\n",
    "plt.title(\"Latitude vs Wind Speed\", fontweight=\"bold\", fontsize=16, fontname=\"Georgia\")\n",
    "plt.xlabel(\"Latitude\", fontname=\"Georgia\")\n",
    "plt.ylabel(\"Wind Speed\", fontname=\"Georgia\")\n",
    "\n",
    "plt.grid(axis=\"both\", alpha=0.1)\n",
    "\n",
    "plt.tight_layout()\n",
    "plt.savefig(\"wind_lat_elyssa.png\")\n",
    "plt.show()"
   ]
  },
  {
   "cell_type": "markdown",
   "metadata": {},
   "source": [
    "## Linear Regression"
   ]
  },
  {
   "cell_type": "code",
   "execution_count": 25,
   "metadata": {},
   "outputs": [],
   "source": [
    "# linear modelling\n",
    "import statsmodels.api as sm\n",
    "from sklearn.linear_model import LinearRegression"
   ]
  },
  {
   "cell_type": "code",
   "execution_count": 26,
   "metadata": {},
   "outputs": [],
   "source": [
    "df_north = df_sub.loc[df_sub.Latitude >= 0]\n",
    "df_south = df_sub.loc[df_sub.Latitude < 0]"
   ]
  },
  {
   "cell_type": "markdown",
   "metadata": {},
   "source": [
    "####  Northern Hemisphere - Max Temp vs. Latitude Linear Regression"
   ]
  },
  {
   "cell_type": "code",
   "execution_count": 27,
   "metadata": {},
   "outputs": [
    {
     "name": "stdout",
     "output_type": "stream",
     "text": [
      "The r-squared is: 0.7664228503211495\n"
     ]
    },
    {
     "data": {
      "image/png": "[encoded data removed]",
      "text/plain": [
       "<Figure size 432x288 with 1 Axes>"
      ]
     },
     "metadata": {
      "needs_background": "light"
     },
     "output_type": "display_data"
    }
   ],
   "source": [
    "# Print out the r-squared value along with the plot.\n",
    "x_values = df_north['Latitude']\n",
    "y_values = df_north['Temperature']\n",
    "\n",
    "(slope, intercept, rvalue, pvalue, stderr) = linregress(x_values, y_values)\n",
    "regress_values = x_values * slope + intercept\n",
    "line_eq = \"y = \" + str(round(slope,2)) + \"x + \" + str(round(intercept,2))\n",
    "plt.scatter(x_values,y_values)\n",
    "plt.plot(x_values,regress_values,\"r-\")\n",
    "\n",
    "plt.annotate(line_eq,(10,-20),fontsize=15,color=\"red\")\n",
    "plt.xlabel('Latitude', fontname=\"Georgia\")\n",
    "plt.ylabel('Temperature', fontname=\"Georgia\")\n",
    "\n",
    "print(f\"The r-squared is: {rvalue**2}\")\n",
    "plt.show()"
   ]
  },
  {
   "cell_type": "code",
   "execution_count": 28,
   "metadata": {},
   "outputs": [
    {
     "data": {
      "text/html": [
       "<table class=\"simpletable\">\n",
       "<caption>OLS Regression Results</caption>\n",
       "<tr>\n",
       "  <th>Dep. Variable:</th>       <td>Temperature</td>   <th>  R-squared:         </th> <td>   0.766</td>\n",
       "</tr>\n",
       "<tr>\n",
       "  <th>Model:</th>                   <td>OLS</td>       <th>  Adj. R-squared:    </th> <td>   0.759</td>\n",
       "</tr>\n",
       "<tr>\n",
       "  <th>Method:</th>             <td>Least Squares</td>  <th>  F-statistic:       </th> <td>   105.0</td>\n",
       "</tr>\n",
       "<tr>\n",
       "  <th>Date:</th>             <td>Sun, 06 Feb 2022</td> <th>  Prob (F-statistic):</th> <td>1.24e-11</td>\n",
       "</tr>\n",
       "<tr>\n",
       "  <th>Time:</th>                 <td>22:29:27</td>     <th>  Log-Likelihood:    </th> <td> -143.45</td>\n",
       "</tr>\n",
       "<tr>\n",
       "  <th>No. Observations:</th>      <td>    34</td>      <th>  AIC:               </th> <td>   290.9</td>\n",
       "</tr>\n",
       "<tr>\n",
       "  <th>Df Residuals:</th>          <td>    32</td>      <th>  BIC:               </th> <td>   294.0</td>\n",
       "</tr>\n",
       "<tr>\n",
       "  <th>Df Model:</th>              <td>     1</td>      <th>                     </th>     <td> </td>   \n",
       "</tr>\n",
       "<tr>\n",
       "  <th>Covariance Type:</th>      <td>nonrobust</td>    <th>                     </th>     <td> </td>   \n",
       "</tr>\n",
       "</table>\n",
       "<table class=\"simpletable\">\n",
       "<tr>\n",
       "      <td></td>        <th>coef</th>     <th>std err</th>      <th>t</th>      <th>P>|t|</th>  <th>[0.025</th>    <th>0.975]</th>  \n",
       "</tr>\n",
       "<tr>\n",
       "  <th>const</th>    <td>   92.4398</td> <td>    6.993</td> <td>   13.218</td> <td> 0.000</td> <td>   78.195</td> <td>  106.685</td>\n",
       "</tr>\n",
       "<tr>\n",
       "  <th>Latitude</th> <td>   -1.4146</td> <td>    0.138</td> <td>  -10.247</td> <td> 0.000</td> <td>   -1.696</td> <td>   -1.133</td>\n",
       "</tr>\n",
       "</table>\n",
       "<table class=\"simpletable\">\n",
       "<tr>\n",
       "  <th>Omnibus:</th>       <td> 0.027</td> <th>  Durbin-Watson:     </th> <td>   2.306</td>\n",
       "</tr>\n",
       "<tr>\n",
       "  <th>Prob(Omnibus):</th> <td> 0.987</td> <th>  Jarque-Bera (JB):  </th> <td>   0.111</td>\n",
       "</tr>\n",
       "<tr>\n",
       "  <th>Skew:</th>          <td> 0.051</td> <th>  Prob(JB):          </th> <td>   0.946</td>\n",
       "</tr>\n",
       "<tr>\n",
       "  <th>Kurtosis:</th>      <td> 2.740</td> <th>  Cond. No.          </th> <td>    122.</td>\n",
       "</tr>\n",
       "</table><br/><br/>Notes:<br/>[1] Standard Errors assume that the covariance matrix of the errors is correctly specified."
      ],
      "text/plain": [
       "<class 'statsmodels.iolib.summary.Summary'>\n",
       "\"\"\"\n",
       "                            OLS Regression Results                            \n",
       "==============================================================================\n",
       "Dep. Variable:            Temperature   R-squared:                       0.766\n",
       "Model:                            OLS   Adj. R-squared:                  0.759\n",
       "Method:                 Least Squares   F-statistic:                     105.0\n",
       "Date:                Sun, 06 Feb 2022   Prob (F-statistic):           1.24e-11\n",
       "Time:                        22:29:27   Log-Likelihood:                -143.45\n",
       "No. Observations:                  34   AIC:                             290.9\n",
       "Df Residuals:                      32   BIC:                             294.0\n",
       "Df Model:                           1                                         \n",
       "Covariance Type:            nonrobust                                         \n",
       "==============================================================================\n",
       "                 coef    std err          t      P>|t|      [0.025      0.975]\n",
       "------------------------------------------------------------------------------\n",
       "const         92.4398      6.993     13.218      0.000      78.195     106.685\n",
       "Latitude      -1.4146      0.138    -10.247      0.000      -1.696      -1.133\n",
       "==============================================================================\n",
       "Omnibus:                        0.027   Durbin-Watson:                   2.306\n",
       "Prob(Omnibus):                  0.987   Jarque-Bera (JB):                0.111\n",
       "Skew:                           0.051   Prob(JB):                        0.946\n",
       "Kurtosis:                       2.740   Cond. No.                         122.\n",
       "==============================================================================\n",
       "\n",
       "Notes:\n",
       "[1] Standard Errors assume that the covariance matrix of the errors is correctly specified.\n",
       "\"\"\""
      ]
     },
     "execution_count": 28,
     "metadata": {},
     "output_type": "execute_result"
    }
   ],
   "source": [
    "feature = df_north[[\"Latitude\"]]\n",
    "target = df_north[\"Temperature\"]\n",
    "\n",
    "# STATSMODELS\n",
    "X = sm.add_constant(feature)\n",
    "Y = target\n",
    "\n",
    "model = sm.OLS(Y,X)\n",
    "results = model.fit()\n",
    "results.summary()"
   ]
  },
  {
   "cell_type": "code",
   "execution_count": 29,
   "metadata": {},
   "outputs": [
    {
     "name": "stdout",
     "output_type": "stream",
     "text": [
      "[-1.41457555]\n",
      "92.43975877056923\n"
     ]
    }
   ],
   "source": [
    "reg = LinearRegression()\n",
    "reg.fit(np.array(feature), np.array(target))\n",
    "print(reg.coef_)\n",
    "print(reg.intercept_)"
   ]
  },
  {
   "cell_type": "code",
   "execution_count": 30,
   "metadata": {},
   "outputs": [],
   "source": [
    "from sklearn.metrics import r2_score, mean_squared_error, mean_absolute_error"
   ]
  },
  {
   "cell_type": "code",
   "execution_count": 31,
   "metadata": {},
   "outputs": [
    {
     "name": "stdout",
     "output_type": "stream",
     "text": [
      "R2: 0.76642285032115\n",
      "MSE: 270.5765159375854\n",
      "RMSE: 16.449210191908467\n",
      "MAE: 12.852916898516417\n"
     ]
    }
   ],
   "source": [
    "actual = df_north[\"Temperature\"]\n",
    "predictions = reg.predict(df_north[\"Latitude\"].values.reshape(-1, 1))\n",
    "\n",
    "r2 = r2_score(actual, predictions)\n",
    "mse = mean_squared_error(actual, predictions)\n",
    "mae = mean_absolute_error(actual, predictions)\n",
    "\n",
    "print(f\"R2: {r2}\")\n",
    "print(f\"MSE: {mse}\")\n",
    "print(f\"RMSE: {np.sqrt(mse)}\")\n",
    "print(f\"MAE: {mae}\")"
   ]
  },
  {
   "cell_type": "code",
   "execution_count": 32,
   "metadata": {},
   "outputs": [
    {
     "data": {
      "image/png": "[encoded data removed]",
      "text/plain": [
       "<Figure size 720x432 with 1 Axes>"
      ]
     },
     "metadata": {
      "needs_background": "light"
     },
     "output_type": "display_data"
    }
   ],
   "source": [
    "plt.figure(figsize=(10,6))\n",
    "\n",
    "plt.scatter(predictions, actual)\n",
    "plt.plot(actual, actual)\n",
    "\n",
    "plt.xlabel(\"Predicted\")\n",
    "plt.ylabel(\"Actual\")\n",
    "\n",
    "plt.show()"
   ]
  },
  {
   "cell_type": "code",
   "execution_count": 33,
   "metadata": {},
   "outputs": [
    {
     "data": {
      "image/png": "[encoded data removed]",
      "text/plain": [
       "<Figure size 720x432 with 1 Axes>"
      ]
     },
     "metadata": {
      "needs_background": "light"
     },
     "output_type": "display_data"
    }
   ],
   "source": [
    "residuals = predictions - actual\n",
    "\n",
    "plt.figure(figsize=(10,6))\n",
    "\n",
    "plt.scatter(predictions, residuals)\n",
    "plt.hlines(0, -10, 85)\n",
    "\n",
    "plt.xlabel(\"Predicted\")\n",
    "plt.ylabel(\"Residuals\")\n",
    "\n",
    "plt.show()"
   ]
  },
  {
   "cell_type": "markdown",
   "metadata": {},
   "source": [
    "# Heteroscedasticity! "
   ]
  },
  {
   "cell_type": "markdown",
   "metadata": {},
   "source": [
    "####  Southern Hemisphere - Max Temp vs. Latitude Linear Regression"
   ]
  },
  {
   "cell_type": "code",
   "execution_count": 34,
   "metadata": {},
   "outputs": [
    {
     "name": "stdout",
     "output_type": "stream",
     "text": [
      "The r-squared is: 0.5664129114960549\n"
     ]
    },
    {
     "data": {
      "image/png": "[encoded data removed]",
      "text/plain": [
       "<Figure size 432x288 with 1 Axes>"
      ]
     },
     "metadata": {
      "needs_background": "light"
     },
     "output_type": "display_data"
    }
   ],
   "source": [
    "# Print out the r-squared value along with the plot.\n",
    "x_values = df_south['Latitude']\n",
    "y_values = df_south['Temperature']\n",
    "\n",
    "(slope, intercept, rvalue, pvalue, stderr) = linregress(x_values, y_values)\n",
    "regress_values = x_values * slope + intercept\n",
    "line_eq = \"y = \" + str(round(slope,2)) + \"x + \" + str(round(intercept,2))\n",
    "plt.scatter(x_values,y_values)\n",
    "plt.plot(x_values,regress_values,\"r-\")\n",
    "\n",
    "plt.annotate(line_eq,(10,-20),fontsize=15,color=\"red\")\n",
    "plt.xlabel('Latitude', fontname=\"Georgia\")\n",
    "plt.ylabel('Temperature', fontname=\"Georgia\")\n",
    "\n",
    "print(f\"The r-squared is: {rvalue**2}\")\n",
    "plt.show()"
   ]
  },
  {
   "cell_type": "code",
   "execution_count": 35,
   "metadata": {},
   "outputs": [
    {
     "data": {
      "text/html": [
       "<table class=\"simpletable\">\n",
       "<caption>OLS Regression Results</caption>\n",
       "<tr>\n",
       "  <th>Dep. Variable:</th>       <td>Temperature</td>   <th>  R-squared:         </th> <td>   0.566</td>\n",
       "</tr>\n",
       "<tr>\n",
       "  <th>Model:</th>                   <td>OLS</td>       <th>  Adj. R-squared:    </th> <td>   0.542</td>\n",
       "</tr>\n",
       "<tr>\n",
       "  <th>Method:</th>             <td>Least Squares</td>  <th>  F-statistic:       </th> <td>   23.51</td>\n",
       "</tr>\n",
       "<tr>\n",
       "  <th>Date:</th>             <td>Sun, 06 Feb 2022</td> <th>  Prob (F-statistic):</th> <td>0.000129</td>\n",
       "</tr>\n",
       "<tr>\n",
       "  <th>Time:</th>                 <td>22:29:27</td>     <th>  Log-Likelihood:    </th> <td> -63.566</td>\n",
       "</tr>\n",
       "<tr>\n",
       "  <th>No. Observations:</th>      <td>    20</td>      <th>  AIC:               </th> <td>   131.1</td>\n",
       "</tr>\n",
       "<tr>\n",
       "  <th>Df Residuals:</th>          <td>    18</td>      <th>  BIC:               </th> <td>   133.1</td>\n",
       "</tr>\n",
       "<tr>\n",
       "  <th>Df Model:</th>              <td>     1</td>      <th>                     </th>     <td> </td>   \n",
       "</tr>\n",
       "<tr>\n",
       "  <th>Covariance Type:</th>      <td>nonrobust</td>    <th>                     </th>     <td> </td>   \n",
       "</tr>\n",
       "</table>\n",
       "<table class=\"simpletable\">\n",
       "<tr>\n",
       "      <td></td>        <th>coef</th>     <th>std err</th>      <th>t</th>      <th>P>|t|</th>  <th>[0.025</th>    <th>0.975]</th>  \n",
       "</tr>\n",
       "<tr>\n",
       "  <th>const</th>    <td>   82.5708</td> <td>    2.882</td> <td>   28.651</td> <td> 0.000</td> <td>   76.516</td> <td>   88.626</td>\n",
       "</tr>\n",
       "<tr>\n",
       "  <th>Latitude</th> <td>    0.4261</td> <td>    0.088</td> <td>    4.849</td> <td> 0.000</td> <td>    0.241</td> <td>    0.611</td>\n",
       "</tr>\n",
       "</table>\n",
       "<table class=\"simpletable\">\n",
       "<tr>\n",
       "  <th>Omnibus:</th>       <td> 0.267</td> <th>  Durbin-Watson:     </th> <td>   1.997</td>\n",
       "</tr>\n",
       "<tr>\n",
       "  <th>Prob(Omnibus):</th> <td> 0.875</td> <th>  Jarque-Bera (JB):  </th> <td>   0.168</td>\n",
       "</tr>\n",
       "<tr>\n",
       "  <th>Skew:</th>          <td> 0.189</td> <th>  Prob(JB):          </th> <td>   0.919</td>\n",
       "</tr>\n",
       "<tr>\n",
       "  <th>Kurtosis:</th>      <td> 2.758</td> <th>  Cond. No.          </th> <td>    69.1</td>\n",
       "</tr>\n",
       "</table><br/><br/>Notes:<br/>[1] Standard Errors assume that the covariance matrix of the errors is correctly specified."
      ],
      "text/plain": [
       "<class 'statsmodels.iolib.summary.Summary'>\n",
       "\"\"\"\n",
       "                            OLS Regression Results                            \n",
       "==============================================================================\n",
       "Dep. Variable:            Temperature   R-squared:                       0.566\n",
       "Model:                            OLS   Adj. R-squared:                  0.542\n",
       "Method:                 Least Squares   F-statistic:                     23.51\n",
       "Date:                Sun, 06 Feb 2022   Prob (F-statistic):           0.000129\n",
       "Time:                        22:29:27   Log-Likelihood:                -63.566\n",
       "No. Observations:                  20   AIC:                             131.1\n",
       "Df Residuals:                      18   BIC:                             133.1\n",
       "Df Model:                           1                                         \n",
       "Covariance Type:            nonrobust                                         \n",
       "==============================================================================\n",
       "                 coef    std err          t      P>|t|      [0.025      0.975]\n",
       "------------------------------------------------------------------------------\n",
       "const         82.5708      2.882     28.651      0.000      76.516      88.626\n",
       "Latitude       0.4261      0.088      4.849      0.000       0.241       0.611\n",
       "==============================================================================\n",
       "Omnibus:                        0.267   Durbin-Watson:                   1.997\n",
       "Prob(Omnibus):                  0.875   Jarque-Bera (JB):                0.168\n",
       "Skew:                           0.189   Prob(JB):                        0.919\n",
       "Kurtosis:                       2.758   Cond. No.                         69.1\n",
       "==============================================================================\n",
       "\n",
       "Notes:\n",
       "[1] Standard Errors assume that the covariance matrix of the errors is correctly specified.\n",
       "\"\"\""
      ]
     },
     "execution_count": 35,
     "metadata": {},
     "output_type": "execute_result"
    }
   ],
   "source": [
    "feature = df_south[[\"Latitude\"]]\n",
    "target = df_south[\"Temperature\"]\n",
    "\n",
    "# STATSMODELS\n",
    "X = sm.add_constant(feature)\n",
    "Y = target\n",
    "\n",
    "model = sm.OLS(Y,X)\n",
    "results = model.fit()\n",
    "results.summary()"
   ]
  },
  {
   "cell_type": "code",
   "execution_count": 36,
   "metadata": {},
   "outputs": [
    {
     "name": "stdout",
     "output_type": "stream",
     "text": [
      "[0.42608493]\n",
      "82.57083309582426\n"
     ]
    }
   ],
   "source": [
    "reg = LinearRegression()\n",
    "reg.fit(np.array(feature), np.array(target))\n",
    "print(reg.coef_)\n",
    "print(reg.intercept_)"
   ]
  },
  {
   "cell_type": "code",
   "execution_count": 37,
   "metadata": {},
   "outputs": [
    {
     "name": "stdout",
     "output_type": "stream",
     "text": [
      "R2: 0.5664129114960548\n",
      "MSE: 33.740035750741924\n",
      "RMSE: 5.808617369972128\n",
      "MAE: 4.657299052753336\n"
     ]
    }
   ],
   "source": [
    "actual = df_south[\"Temperature\"]\n",
    "predictions = reg.predict(df_south[\"Latitude\"].values.reshape(-1, 1))\n",
    "\n",
    "r2 = r2_score(actual, predictions)\n",
    "mse = mean_squared_error(actual, predictions)\n",
    "mae = mean_absolute_error(actual, predictions)\n",
    "\n",
    "print(f\"R2: {r2}\")\n",
    "print(f\"MSE: {mse}\")\n",
    "print(f\"RMSE: {np.sqrt(mse)}\")\n",
    "print(f\"MAE: {mae}\")"
   ]
  },
  {
   "cell_type": "code",
   "execution_count": 38,
   "metadata": {},
   "outputs": [
    {
     "data": {
      "image/png": "[encoded data removed]",
      "text/plain": [
       "<Figure size 720x432 with 1 Axes>"
      ]
     },
     "metadata": {
      "needs_background": "light"
     },
     "output_type": "display_data"
    }
   ],
   "source": [
    "plt.figure(figsize=(10,6))\n",
    "\n",
    "plt.scatter(predictions, actual)\n",
    "plt.plot(actual, actual)\n",
    "\n",
    "plt.xlabel(\"Predicted\")\n",
    "plt.ylabel(\"Actual\")\n",
    "\n",
    "plt.show()"
   ]
  },
  {
   "cell_type": "code",
   "execution_count": 39,
   "metadata": {},
   "outputs": [
    {
     "data": {
      "image/png": "[encoded data removed]",
      "text/plain": [
       "<Figure size 720x432 with 1 Axes>"
      ]
     },
     "metadata": {
      "needs_background": "light"
     },
     "output_type": "display_data"
    }
   ],
   "source": [
    "residuals = predictions - actual\n",
    "\n",
    "plt.figure(figsize=(10,6))\n",
    "\n",
    "plt.scatter(predictions, residuals)\n",
    "plt.hlines(0, -10, 85)\n",
    "\n",
    "plt.xlabel(\"Predicted\")\n",
    "plt.ylabel(\"Residuals\")\n",
    "\n",
    "plt.show()"
   ]
  },
  {
   "cell_type": "code",
   "execution_count": null,
   "metadata": {},
   "outputs": [],
   "source": []
  },
  {
   "cell_type": "code",
   "execution_count": null,
   "metadata": {},
   "outputs": [],
   "source": []
  },
  {
   "cell_type": "markdown",
   "metadata": {},
   "source": [
    "####  Northern Hemisphere - Humidity (%) vs. Latitude Linear Regression"
   ]
  },
  {
   "cell_type": "code",
   "execution_count": 40,
   "metadata": {},
   "outputs": [
    {
     "name": "stdout",
     "output_type": "stream",
     "text": [
      "The r-squared is: 0.1341372889886727\n"
     ]
    },
    {
     "data": {
      "image/png": "[encoded data removed]",
      "text/plain": [
       "<Figure size 432x288 with 1 Axes>"
      ]
     },
     "metadata": {
      "needs_background": "light"
     },
     "output_type": "display_data"
    }
   ],
   "source": [
    "# Print out the r-squared value along with the plot.\n",
    "x_values = df_north['Latitude']\n",
    "y_values = df_north['Humidity']\n",
    "\n",
    "(slope, intercept, rvalue, pvalue, stderr) = linregress(x_values, y_values)\n",
    "regress_values = x_values * slope + intercept\n",
    "line_eq = \"y = \" + str(round(slope,2)) + \"x + \" + str(round(intercept,2))\n",
    "plt.scatter(x_values,y_values)\n",
    "plt.plot(x_values,regress_values,\"r-\")\n",
    "\n",
    "plt.annotate(line_eq,(10,95),fontsize=15,color=\"red\")\n",
    "plt.xlabel('Latitude')\n",
    "plt.ylabel('Humidity')\n",
    "\n",
    "print(f\"The r-squared is: {rvalue**2}\")\n",
    "plt.show()"
   ]
  },
  {
   "cell_type": "code",
   "execution_count": 41,
   "metadata": {},
   "outputs": [
    {
     "data": {
      "text/html": [
       "<table class=\"simpletable\">\n",
       "<caption>OLS Regression Results</caption>\n",
       "<tr>\n",
       "  <th>Dep. Variable:</th>        <td>Humidity</td>     <th>  R-squared:         </th> <td>   0.134</td>\n",
       "</tr>\n",
       "<tr>\n",
       "  <th>Model:</th>                   <td>OLS</td>       <th>  Adj. R-squared:    </th> <td>   0.107</td>\n",
       "</tr>\n",
       "<tr>\n",
       "  <th>Method:</th>             <td>Least Squares</td>  <th>  F-statistic:       </th> <td>   4.957</td>\n",
       "</tr>\n",
       "<tr>\n",
       "  <th>Date:</th>             <td>Sun, 06 Feb 2022</td> <th>  Prob (F-statistic):</th>  <td>0.0331</td> \n",
       "</tr>\n",
       "<tr>\n",
       "  <th>Time:</th>                 <td>22:29:28</td>     <th>  Log-Likelihood:    </th> <td> -143.14</td>\n",
       "</tr>\n",
       "<tr>\n",
       "  <th>No. Observations:</th>      <td>    34</td>      <th>  AIC:               </th> <td>   290.3</td>\n",
       "</tr>\n",
       "<tr>\n",
       "  <th>Df Residuals:</th>          <td>    32</td>      <th>  BIC:               </th> <td>   293.3</td>\n",
       "</tr>\n",
       "<tr>\n",
       "  <th>Df Model:</th>              <td>     1</td>      <th>                     </th>     <td> </td>   \n",
       "</tr>\n",
       "<tr>\n",
       "  <th>Covariance Type:</th>      <td>nonrobust</td>    <th>                     </th>     <td> </td>   \n",
       "</tr>\n",
       "</table>\n",
       "<table class=\"simpletable\">\n",
       "<tr>\n",
       "      <td></td>        <th>coef</th>     <th>std err</th>      <th>t</th>      <th>P>|t|</th>  <th>[0.025</th>    <th>0.975]</th>  \n",
       "</tr>\n",
       "<tr>\n",
       "  <th>const</th>    <td>   68.1759</td> <td>    6.929</td> <td>    9.840</td> <td> 0.000</td> <td>   54.063</td> <td>   82.289</td>\n",
       "</tr>\n",
       "<tr>\n",
       "  <th>Latitude</th> <td>    0.3045</td> <td>    0.137</td> <td>    2.227</td> <td> 0.033</td> <td>    0.026</td> <td>    0.583</td>\n",
       "</tr>\n",
       "</table>\n",
       "<table class=\"simpletable\">\n",
       "<tr>\n",
       "  <th>Omnibus:</th>       <td> 9.088</td> <th>  Durbin-Watson:     </th> <td>   2.186</td>\n",
       "</tr>\n",
       "<tr>\n",
       "  <th>Prob(Omnibus):</th> <td> 0.011</td> <th>  Jarque-Bera (JB):  </th> <td>   8.016</td>\n",
       "</tr>\n",
       "<tr>\n",
       "  <th>Skew:</th>          <td>-1.145</td> <th>  Prob(JB):          </th> <td>  0.0182</td>\n",
       "</tr>\n",
       "<tr>\n",
       "  <th>Kurtosis:</th>      <td> 3.642</td> <th>  Cond. No.          </th> <td>    122.</td>\n",
       "</tr>\n",
       "</table><br/><br/>Notes:<br/>[1] Standard Errors assume that the covariance matrix of the errors is correctly specified."
      ],
      "text/plain": [
       "<class 'statsmodels.iolib.summary.Summary'>\n",
       "\"\"\"\n",
       "                            OLS Regression Results                            \n",
       "==============================================================================\n",
       "Dep. Variable:               Humidity   R-squared:                       0.134\n",
       "Model:                            OLS   Adj. R-squared:                  0.107\n",
       "Method:                 Least Squares   F-statistic:                     4.957\n",
       "Date:                Sun, 06 Feb 2022   Prob (F-statistic):             0.0331\n",
       "Time:                        22:29:28   Log-Likelihood:                -143.14\n",
       "No. Observations:                  34   AIC:                             290.3\n",
       "Df Residuals:                      32   BIC:                             293.3\n",
       "Df Model:                           1                                         \n",
       "Covariance Type:            nonrobust                                         \n",
       "==============================================================================\n",
       "                 coef    std err          t      P>|t|      [0.025      0.975]\n",
       "------------------------------------------------------------------------------\n",
       "const         68.1759      6.929      9.840      0.000      54.063      82.289\n",
       "Latitude       0.3045      0.137      2.227      0.033       0.026       0.583\n",
       "==============================================================================\n",
       "Omnibus:                        9.088   Durbin-Watson:                   2.186\n",
       "Prob(Omnibus):                  0.011   Jarque-Bera (JB):                8.016\n",
       "Skew:                          -1.145   Prob(JB):                       0.0182\n",
       "Kurtosis:                       3.642   Cond. No.                         122.\n",
       "==============================================================================\n",
       "\n",
       "Notes:\n",
       "[1] Standard Errors assume that the covariance matrix of the errors is correctly specified.\n",
       "\"\"\""
      ]
     },
     "execution_count": 41,
     "metadata": {},
     "output_type": "execute_result"
    }
   ],
   "source": [
    "feature = df_north[[\"Latitude\"]]\n",
    "target = df_north[\"Humidity\"]\n",
    "\n",
    "# STATSMODELS\n",
    "X = sm.add_constant(feature)\n",
    "Y = target\n",
    "\n",
    "model = sm.OLS(Y,X)\n",
    "results = model.fit()\n",
    "results.summary()"
   ]
  },
  {
   "cell_type": "code",
   "execution_count": 42,
   "metadata": {},
   "outputs": [
    {
     "name": "stdout",
     "output_type": "stream",
     "text": [
      "[0.30453017]\n",
      "68.17586749134597\n"
     ]
    }
   ],
   "source": [
    "reg = LinearRegression()\n",
    "reg.fit(np.array(feature), np.array(target))\n",
    "print(reg.coef_)\n",
    "print(reg.intercept_)"
   ]
  },
  {
   "cell_type": "code",
   "execution_count": 43,
   "metadata": {},
   "outputs": [
    {
     "name": "stdout",
     "output_type": "stream",
     "text": [
      "R2: 0.1341372889886724\n",
      "MSE: 265.6048846350967\n",
      "RMSE: 16.297388890098215\n",
      "MAE: 12.473695370491589\n"
     ]
    }
   ],
   "source": [
    "actual = df_north[\"Humidity\"]\n",
    "predictions = reg.predict(df_north[\"Latitude\"].values.reshape(-1, 1))\n",
    "\n",
    "r2 = r2_score(actual, predictions)\n",
    "mse = mean_squared_error(actual, predictions)\n",
    "mae = mean_absolute_error(actual, predictions)\n",
    "\n",
    "print(f\"R2: {r2}\")\n",
    "print(f\"MSE: {mse}\")\n",
    "print(f\"RMSE: {np.sqrt(mse)}\")\n",
    "print(f\"MAE: {mae}\")"
   ]
  },
  {
   "cell_type": "code",
   "execution_count": 44,
   "metadata": {},
   "outputs": [
    {
     "data": {
      "image/png": "[encoded data removed]",
      "text/plain": [
       "<Figure size 720x432 with 1 Axes>"
      ]
     },
     "metadata": {
      "needs_background": "light"
     },
     "output_type": "display_data"
    }
   ],
   "source": [
    "plt.figure(figsize=(10,6))\n",
    "\n",
    "plt.scatter(predictions, actual)\n",
    "plt.plot(actual, actual)\n",
    "\n",
    "plt.xlabel(\"Predicted\")\n",
    "plt.ylabel(\"Actual\")\n",
    "\n",
    "plt.show()"
   ]
  },
  {
   "cell_type": "code",
   "execution_count": 45,
   "metadata": {},
   "outputs": [
    {
     "data": {
      "image/png": "[encoded data removed]",
      "text/plain": [
       "<Figure size 720x432 with 1 Axes>"
      ]
     },
     "metadata": {
      "needs_background": "light"
     },
     "output_type": "display_data"
    }
   ],
   "source": [
    "residuals = predictions - actual\n",
    "\n",
    "plt.figure(figsize=(10,6))\n",
    "\n",
    "plt.scatter(predictions, residuals)\n",
    "plt.hlines(0, 40, 100)\n",
    "\n",
    "plt.xlabel(\"Predicted\")\n",
    "plt.ylabel(\"Residuals\")\n",
    "\n",
    "plt.show()"
   ]
  },
  {
   "cell_type": "code",
   "execution_count": null,
   "metadata": {},
   "outputs": [],
   "source": []
  },
  {
   "cell_type": "code",
   "execution_count": null,
   "metadata": {},
   "outputs": [],
   "source": []
  },
  {
   "cell_type": "markdown",
   "metadata": {},
   "source": [
    "####  Southern Hemisphere - Humidity (%) vs. Latitude Linear Regression"
   ]
  },
  {
   "cell_type": "code",
   "execution_count": 46,
   "metadata": {},
   "outputs": [
    {
     "name": "stdout",
     "output_type": "stream",
     "text": [
      "The r-squared is: 0.062321530522267875\n"
     ]
    },
    {
     "data": {
      "image/png": "[encoded data removed]",
      "text/plain": [
       "<Figure size 432x288 with 1 Axes>"
      ]
     },
     "metadata": {
      "needs_background": "light"
     },
     "output_type": "display_data"
    }
   ],
   "source": [
    "# Print out the r-squared value along with the plot.\n",
    "x_values = df_south['Latitude']\n",
    "y_values = df_south['Humidity']\n",
    "\n",
    "(slope, intercept, rvalue, pvalue, stderr) = linregress(x_values, y_values)\n",
    "regress_values = x_values * slope + intercept\n",
    "line_eq = \"y = \" + str(round(slope,2)) + \"x + \" + str(round(intercept,2))\n",
    "plt.scatter(x_values,y_values)\n",
    "plt.plot(x_values,regress_values,\"r-\")\n",
    "\n",
    "plt.annotate(line_eq,(10,95),fontsize=15,color=\"red\")\n",
    "plt.xlabel('Latitude')\n",
    "plt.ylabel('Humidity')\n",
    "\n",
    "print(f\"The r-squared is: {rvalue**2}\")\n",
    "plt.show()"
   ]
  },
  {
   "cell_type": "code",
   "execution_count": 47,
   "metadata": {},
   "outputs": [
    {
     "data": {
      "text/html": [
       "<table class=\"simpletable\">\n",
       "<caption>OLS Regression Results</caption>\n",
       "<tr>\n",
       "  <th>Dep. Variable:</th>        <td>Humidity</td>     <th>  R-squared:         </th> <td>   0.062</td>\n",
       "</tr>\n",
       "<tr>\n",
       "  <th>Model:</th>                   <td>OLS</td>       <th>  Adj. R-squared:    </th> <td>   0.010</td>\n",
       "</tr>\n",
       "<tr>\n",
       "  <th>Method:</th>             <td>Least Squares</td>  <th>  F-statistic:       </th> <td>   1.196</td>\n",
       "</tr>\n",
       "<tr>\n",
       "  <th>Date:</th>             <td>Sun, 06 Feb 2022</td> <th>  Prob (F-statistic):</th>  <td> 0.288</td> \n",
       "</tr>\n",
       "<tr>\n",
       "  <th>Time:</th>                 <td>22:29:28</td>     <th>  Log-Likelihood:    </th> <td> -83.952</td>\n",
       "</tr>\n",
       "<tr>\n",
       "  <th>No. Observations:</th>      <td>    20</td>      <th>  AIC:               </th> <td>   171.9</td>\n",
       "</tr>\n",
       "<tr>\n",
       "  <th>Df Residuals:</th>          <td>    18</td>      <th>  BIC:               </th> <td>   173.9</td>\n",
       "</tr>\n",
       "<tr>\n",
       "  <th>Df Model:</th>              <td>     1</td>      <th>                     </th>     <td> </td>   \n",
       "</tr>\n",
       "<tr>\n",
       "  <th>Covariance Type:</th>      <td>nonrobust</td>    <th>                     </th>     <td> </td>   \n",
       "</tr>\n",
       "</table>\n",
       "<table class=\"simpletable\">\n",
       "<tr>\n",
       "      <td></td>        <th>coef</th>     <th>std err</th>      <th>t</th>      <th>P>|t|</th>  <th>[0.025</th>    <th>0.975]</th>  \n",
       "</tr>\n",
       "<tr>\n",
       "  <th>const</th>    <td>   81.1870</td> <td>    7.987</td> <td>   10.165</td> <td> 0.000</td> <td>   64.407</td> <td>   97.967</td>\n",
       "</tr>\n",
       "<tr>\n",
       "  <th>Latitude</th> <td>    0.2663</td> <td>    0.244</td> <td>    1.094</td> <td> 0.288</td> <td>   -0.245</td> <td>    0.778</td>\n",
       "</tr>\n",
       "</table>\n",
       "<table class=\"simpletable\">\n",
       "<tr>\n",
       "  <th>Omnibus:</th>       <td> 1.420</td> <th>  Durbin-Watson:     </th> <td>   1.845</td>\n",
       "</tr>\n",
       "<tr>\n",
       "  <th>Prob(Omnibus):</th> <td> 0.492</td> <th>  Jarque-Bera (JB):  </th> <td>   1.227</td>\n",
       "</tr>\n",
       "<tr>\n",
       "  <th>Skew:</th>          <td>-0.467</td> <th>  Prob(JB):          </th> <td>   0.542</td>\n",
       "</tr>\n",
       "<tr>\n",
       "  <th>Kurtosis:</th>      <td> 2.227</td> <th>  Cond. No.          </th> <td>    69.1</td>\n",
       "</tr>\n",
       "</table><br/><br/>Notes:<br/>[1] Standard Errors assume that the covariance matrix of the errors is correctly specified."
      ],
      "text/plain": [
       "<class 'statsmodels.iolib.summary.Summary'>\n",
       "\"\"\"\n",
       "                            OLS Regression Results                            \n",
       "==============================================================================\n",
       "Dep. Variable:               Humidity   R-squared:                       0.062\n",
       "Model:                            OLS   Adj. R-squared:                  0.010\n",
       "Method:                 Least Squares   F-statistic:                     1.196\n",
       "Date:                Sun, 06 Feb 2022   Prob (F-statistic):              0.288\n",
       "Time:                        22:29:28   Log-Likelihood:                -83.952\n",
       "No. Observations:                  20   AIC:                             171.9\n",
       "Df Residuals:                      18   BIC:                             173.9\n",
       "Df Model:                           1                                         \n",
       "Covariance Type:            nonrobust                                         \n",
       "==============================================================================\n",
       "                 coef    std err          t      P>|t|      [0.025      0.975]\n",
       "------------------------------------------------------------------------------\n",
       "const         81.1870      7.987     10.165      0.000      64.407      97.967\n",
       "Latitude       0.2663      0.244      1.094      0.288      -0.245       0.778\n",
       "==============================================================================\n",
       "Omnibus:                        1.420   Durbin-Watson:                   1.845\n",
       "Prob(Omnibus):                  0.492   Jarque-Bera (JB):                1.227\n",
       "Skew:                          -0.467   Prob(JB):                        0.542\n",
       "Kurtosis:                       2.227   Cond. No.                         69.1\n",
       "==============================================================================\n",
       "\n",
       "Notes:\n",
       "[1] Standard Errors assume that the covariance matrix of the errors is correctly specified.\n",
       "\"\"\""
      ]
     },
     "execution_count": 47,
     "metadata": {},
     "output_type": "execute_result"
    }
   ],
   "source": [
    "feature = df_south[[\"Latitude\"]]\n",
    "target = df_south[\"Humidity\"]\n",
    "\n",
    "# STATSMODELS\n",
    "X = sm.add_constant(feature)\n",
    "Y = target\n",
    "\n",
    "model = sm.OLS(Y,X)\n",
    "results = model.fit()\n",
    "results.summary()"
   ]
  },
  {
   "cell_type": "code",
   "execution_count": 48,
   "metadata": {},
   "outputs": [
    {
     "name": "stdout",
     "output_type": "stream",
     "text": [
      "[0.26634454]\n",
      "81.18702963877483\n"
     ]
    }
   ],
   "source": [
    "reg = LinearRegression()\n",
    "reg.fit(np.array(feature), np.array(target))\n",
    "print(reg.coef_)\n",
    "print(reg.intercept_)"
   ]
  },
  {
   "cell_type": "code",
   "execution_count": 49,
   "metadata": {},
   "outputs": [
    {
     "name": "stdout",
     "output_type": "stream",
     "text": [
      "R2: 0.062321530522267854\n",
      "MSE: 259.12744504017127\n",
      "RMSE: 16.097435977203677\n",
      "MAE: 13.216341264855924\n"
     ]
    }
   ],
   "source": [
    "actual = df_south[\"Humidity\"]\n",
    "predictions = reg.predict(df_south[\"Latitude\"].values.reshape(-1, 1))\n",
    "\n",
    "r2 = r2_score(actual, predictions)\n",
    "mse = mean_squared_error(actual, predictions)\n",
    "mae = mean_absolute_error(actual, predictions)\n",
    "\n",
    "print(f\"R2: {r2}\")\n",
    "print(f\"MSE: {mse}\")\n",
    "print(f\"RMSE: {np.sqrt(mse)}\")\n",
    "print(f\"MAE: {mae}\")"
   ]
  },
  {
   "cell_type": "code",
   "execution_count": 50,
   "metadata": {},
   "outputs": [
    {
     "data": {
      "image/png": "[encoded data removed]",
      "text/plain": [
       "<Figure size 720x432 with 1 Axes>"
      ]
     },
     "metadata": {
      "needs_background": "light"
     },
     "output_type": "display_data"
    }
   ],
   "source": [
    "plt.figure(figsize=(10,6))\n",
    "\n",
    "plt.scatter(predictions, actual)\n",
    "plt.plot(actual, actual)\n",
    "\n",
    "plt.xlabel(\"Predicted\")\n",
    "plt.ylabel(\"Actual\")\n",
    "\n",
    "plt.show()"
   ]
  },
  {
   "cell_type": "code",
   "execution_count": 51,
   "metadata": {},
   "outputs": [
    {
     "data": {
      "image/png": "[encoded data removed]",
      "text/plain": [
       "<Figure size 720x432 with 1 Axes>"
      ]
     },
     "metadata": {
      "needs_background": "light"
     },
     "output_type": "display_data"
    }
   ],
   "source": [
    "residuals = predictions - actual\n",
    "\n",
    "plt.figure(figsize=(10,6))\n",
    "\n",
    "plt.scatter(predictions, residuals)\n",
    "plt.hlines(0, 40, 100)\n",
    "\n",
    "plt.xlabel(\"Predicted\")\n",
    "plt.ylabel(\"Residuals\")\n",
    "\n",
    "plt.show()"
   ]
  },
  {
   "cell_type": "code",
   "execution_count": null,
   "metadata": {},
   "outputs": [],
   "source": []
  },
  {
   "cell_type": "code",
   "execution_count": null,
   "metadata": {},
   "outputs": [],
   "source": []
  },
  {
   "cell_type": "code",
   "execution_count": null,
   "metadata": {},
   "outputs": [],
   "source": []
  },
  {
   "cell_type": "code",
   "execution_count": null,
   "metadata": {},
   "outputs": [],
   "source": []
  },
  {
   "cell_type": "markdown",
   "metadata": {},
   "source": [
    "####  Northern Hemisphere - Cloudiness (%) vs. Latitude Linear Regression"
   ]
  },
  {
   "cell_type": "code",
   "execution_count": 52,
   "metadata": {},
   "outputs": [
    {
     "name": "stdout",
     "output_type": "stream",
     "text": [
      "The r-squared is: 0.02329773239117543\n"
     ]
    },
    {
     "data": {
      "image/png": "[encoded data removed]",
      "text/plain": [
       "<Figure size 432x288 with 1 Axes>"
      ]
     },
     "metadata": {
      "needs_background": "light"
     },
     "output_type": "display_data"
    }
   ],
   "source": [
    "# Print out the r-squared value along with the plot.\n",
    "x_values = df_north['Latitude']\n",
    "y_values = df_north['Cloudiness']\n",
    "\n",
    "(slope, intercept, rvalue, pvalue, stderr) = linregress(x_values, y_values)\n",
    "regress_values = x_values * slope + intercept\n",
    "line_eq = \"y = \" + str(round(slope,2)) + \"x + \" + str(round(intercept,2))\n",
    "plt.scatter(x_values,y_values)\n",
    "plt.plot(x_values,regress_values,\"r-\")\n",
    "\n",
    "plt.annotate(line_eq,(10,95),fontsize=15,color=\"red\")\n",
    "plt.xlabel('Latitude')\n",
    "plt.ylabel('Cloudiness')\n",
    "\n",
    "print(f\"The r-squared is: {rvalue**2}\")\n",
    "plt.show()"
   ]
  },
  {
   "cell_type": "code",
   "execution_count": 53,
   "metadata": {},
   "outputs": [
    {
     "data": {
      "text/html": [
       "<table class=\"simpletable\">\n",
       "<caption>OLS Regression Results</caption>\n",
       "<tr>\n",
       "  <th>Dep. Variable:</th>       <td>Cloudiness</td>    <th>  R-squared:         </th> <td>   0.023</td>\n",
       "</tr>\n",
       "<tr>\n",
       "  <th>Model:</th>                   <td>OLS</td>       <th>  Adj. R-squared:    </th> <td>  -0.007</td>\n",
       "</tr>\n",
       "<tr>\n",
       "  <th>Method:</th>             <td>Least Squares</td>  <th>  F-statistic:       </th> <td>  0.7633</td>\n",
       "</tr>\n",
       "<tr>\n",
       "  <th>Date:</th>             <td>Sun, 06 Feb 2022</td> <th>  Prob (F-statistic):</th>  <td> 0.389</td> \n",
       "</tr>\n",
       "<tr>\n",
       "  <th>Time:</th>                 <td>22:29:29</td>     <th>  Log-Likelihood:    </th> <td> -173.44</td>\n",
       "</tr>\n",
       "<tr>\n",
       "  <th>No. Observations:</th>      <td>    34</td>      <th>  AIC:               </th> <td>   350.9</td>\n",
       "</tr>\n",
       "<tr>\n",
       "  <th>Df Residuals:</th>          <td>    32</td>      <th>  BIC:               </th> <td>   353.9</td>\n",
       "</tr>\n",
       "<tr>\n",
       "  <th>Df Model:</th>              <td>     1</td>      <th>                     </th>     <td> </td>   \n",
       "</tr>\n",
       "<tr>\n",
       "  <th>Covariance Type:</th>      <td>nonrobust</td>    <th>                     </th>     <td> </td>   \n",
       "</tr>\n",
       "</table>\n",
       "<table class=\"simpletable\">\n",
       "<tr>\n",
       "      <td></td>        <th>coef</th>     <th>std err</th>      <th>t</th>      <th>P>|t|</th>  <th>[0.025</th>    <th>0.975]</th>  \n",
       "</tr>\n",
       "<tr>\n",
       "  <th>const</th>    <td>   50.2519</td> <td>   16.895</td> <td>    2.974</td> <td> 0.006</td> <td>   15.837</td> <td>   84.667</td>\n",
       "</tr>\n",
       "<tr>\n",
       "  <th>Latitude</th> <td>    0.2914</td> <td>    0.334</td> <td>    0.874</td> <td> 0.389</td> <td>   -0.388</td> <td>    0.971</td>\n",
       "</tr>\n",
       "</table>\n",
       "<table class=\"simpletable\">\n",
       "<tr>\n",
       "  <th>Omnibus:</th>       <td>12.081</td> <th>  Durbin-Watson:     </th> <td>   1.782</td>\n",
       "</tr>\n",
       "<tr>\n",
       "  <th>Prob(Omnibus):</th> <td> 0.002</td> <th>  Jarque-Bera (JB):  </th> <td>   3.985</td>\n",
       "</tr>\n",
       "<tr>\n",
       "  <th>Skew:</th>          <td>-0.517</td> <th>  Prob(JB):          </th> <td>   0.136</td>\n",
       "</tr>\n",
       "<tr>\n",
       "  <th>Kurtosis:</th>      <td> 1.680</td> <th>  Cond. No.          </th> <td>    122.</td>\n",
       "</tr>\n",
       "</table><br/><br/>Notes:<br/>[1] Standard Errors assume that the covariance matrix of the errors is correctly specified."
      ],
      "text/plain": [
       "<class 'statsmodels.iolib.summary.Summary'>\n",
       "\"\"\"\n",
       "                            OLS Regression Results                            \n",
       "==============================================================================\n",
       "Dep. Variable:             Cloudiness   R-squared:                       0.023\n",
       "Model:                            OLS   Adj. R-squared:                 -0.007\n",
       "Method:                 Least Squares   F-statistic:                    0.7633\n",
       "Date:                Sun, 06 Feb 2022   Prob (F-statistic):              0.389\n",
       "Time:                        22:29:29   Log-Likelihood:                -173.44\n",
       "No. Observations:                  34   AIC:                             350.9\n",
       "Df Residuals:                      32   BIC:                             353.9\n",
       "Df Model:                           1                                         \n",
       "Covariance Type:            nonrobust                                         \n",
       "==============================================================================\n",
       "                 coef    std err          t      P>|t|      [0.025      0.975]\n",
       "------------------------------------------------------------------------------\n",
       "const         50.2519     16.895      2.974      0.006      15.837      84.667\n",
       "Latitude       0.2914      0.334      0.874      0.389      -0.388       0.971\n",
       "==============================================================================\n",
       "Omnibus:                       12.081   Durbin-Watson:                   1.782\n",
       "Prob(Omnibus):                  0.002   Jarque-Bera (JB):                3.985\n",
       "Skew:                          -0.517   Prob(JB):                        0.136\n",
       "Kurtosis:                       1.680   Cond. No.                         122.\n",
       "==============================================================================\n",
       "\n",
       "Notes:\n",
       "[1] Standard Errors assume that the covariance matrix of the errors is correctly specified.\n",
       "\"\"\""
      ]
     },
     "execution_count": 53,
     "metadata": {},
     "output_type": "execute_result"
    }
   ],
   "source": [
    "feature = df_north[[\"Latitude\"]]\n",
    "target = df_north[\"Cloudiness\"]\n",
    "\n",
    "# STATSMODELS\n",
    "X = sm.add_constant(feature)\n",
    "Y = target\n",
    "\n",
    "model = sm.OLS(Y,X)\n",
    "results = model.fit()\n",
    "results.summary()"
   ]
  },
  {
   "cell_type": "code",
   "execution_count": 54,
   "metadata": {},
   "outputs": [
    {
     "name": "stdout",
     "output_type": "stream",
     "text": [
      "[0.29138801]\n",
      "50.251928300819\n"
     ]
    }
   ],
   "source": [
    "reg = LinearRegression()\n",
    "reg.fit(np.array(feature), np.array(target))\n",
    "print(reg.coef_)\n",
    "print(reg.intercept_)"
   ]
  },
  {
   "cell_type": "code",
   "execution_count": 55,
   "metadata": {},
   "outputs": [
    {
     "name": "stdout",
     "output_type": "stream",
     "text": [
      "R2: 0.023297732391175385\n",
      "MSE: 1579.3115136585172\n",
      "RMSE: 39.740552508219075\n",
      "MAE: 35.844431248924224\n"
     ]
    }
   ],
   "source": [
    "actual = df_north[\"Cloudiness\"]\n",
    "predictions = reg.predict(df_north[\"Latitude\"].values.reshape(-1, 1))\n",
    "\n",
    "r2 = r2_score(actual, predictions)\n",
    "mse = mean_squared_error(actual, predictions)\n",
    "mae = mean_absolute_error(actual, predictions)\n",
    "\n",
    "print(f\"R2: {r2}\")\n",
    "print(f\"MSE: {mse}\")\n",
    "print(f\"RMSE: {np.sqrt(mse)}\")\n",
    "print(f\"MAE: {mae}\")"
   ]
  },
  {
   "cell_type": "code",
   "execution_count": 56,
   "metadata": {},
   "outputs": [
    {
     "data": {
      "image/png": "[encoded data removed]",
      "text/plain": [
       "<Figure size 720x432 with 1 Axes>"
      ]
     },
     "metadata": {
      "needs_background": "light"
     },
     "output_type": "display_data"
    }
   ],
   "source": [
    "plt.figure(figsize=(10,6))\n",
    "\n",
    "plt.scatter(predictions, actual)\n",
    "plt.plot(actual, actual)\n",
    "\n",
    "plt.xlabel(\"Predicted\")\n",
    "plt.ylabel(\"Actual\")\n",
    "\n",
    "plt.show()"
   ]
  },
  {
   "cell_type": "code",
   "execution_count": 57,
   "metadata": {},
   "outputs": [
    {
     "data": {
      "image/png": "[encoded data removed]",
      "text/plain": [
       "<Figure size 720x432 with 1 Axes>"
      ]
     },
     "metadata": {
      "needs_background": "light"
     },
     "output_type": "display_data"
    }
   ],
   "source": [
    "residuals = predictions - actual\n",
    "\n",
    "plt.figure(figsize=(10,6))\n",
    "\n",
    "plt.scatter(predictions, residuals)\n",
    "plt.hlines(0, 40, 100)\n",
    "\n",
    "plt.xlabel(\"Predicted\")\n",
    "plt.ylabel(\"Residuals\")\n",
    "\n",
    "plt.show()"
   ]
  },
  {
   "cell_type": "code",
   "execution_count": null,
   "metadata": {},
   "outputs": [],
   "source": []
  },
  {
   "cell_type": "code",
   "execution_count": null,
   "metadata": {},
   "outputs": [],
   "source": []
  },
  {
   "cell_type": "markdown",
   "metadata": {},
   "source": [
    "####  Southern Hemisphere - Cloudiness (%) vs. Latitude Linear Regression"
   ]
  },
  {
   "cell_type": "code",
   "execution_count": 58,
   "metadata": {
    "scrolled": true
   },
   "outputs": [
    {
     "name": "stdout",
     "output_type": "stream",
     "text": [
      "The r-squared is: 0.1517768114109959\n"
     ]
    },
    {
     "data": {
      "image/png": "[encoded data removed]",
      "text/plain": [
       "<Figure size 432x288 with 1 Axes>"
      ]
     },
     "metadata": {
      "needs_background": "light"
     },
     "output_type": "display_data"
    }
   ],
   "source": [
    "# Print out the r-squared value along with the plot.\n",
    "x_values = df_south['Latitude']\n",
    "y_values = df_south['Cloudiness']\n",
    "\n",
    "(slope, intercept, rvalue, pvalue, stderr) = linregress(x_values, y_values)\n",
    "regress_values = x_values * slope + intercept\n",
    "line_eq = \"y = \" + str(round(slope,2)) + \"x + \" + str(round(intercept,2))\n",
    "plt.scatter(x_values,y_values)\n",
    "plt.plot(x_values,regress_values,\"r-\")\n",
    "\n",
    "plt.annotate(line_eq,(10,95),fontsize=15,color=\"red\")\n",
    "plt.xlabel('Latitude')\n",
    "plt.ylabel('Cloudiness')\n",
    "\n",
    "print(f\"The r-squared is: {rvalue**2}\")\n",
    "plt.show()"
   ]
  },
  {
   "cell_type": "code",
   "execution_count": 59,
   "metadata": {},
   "outputs": [
    {
     "data": {
      "text/html": [
       "<table class=\"simpletable\">\n",
       "<caption>OLS Regression Results</caption>\n",
       "<tr>\n",
       "  <th>Dep. Variable:</th>       <td>Cloudiness</td>    <th>  R-squared:         </th> <td>   0.152</td>\n",
       "</tr>\n",
       "<tr>\n",
       "  <th>Model:</th>                   <td>OLS</td>       <th>  Adj. R-squared:    </th> <td>   0.105</td>\n",
       "</tr>\n",
       "<tr>\n",
       "  <th>Method:</th>             <td>Least Squares</td>  <th>  F-statistic:       </th> <td>   3.221</td>\n",
       "</tr>\n",
       "<tr>\n",
       "  <th>Date:</th>             <td>Sun, 06 Feb 2022</td> <th>  Prob (F-statistic):</th>  <td>0.0895</td> \n",
       "</tr>\n",
       "<tr>\n",
       "  <th>Time:</th>                 <td>22:29:30</td>     <th>  Log-Likelihood:    </th> <td> -96.813</td>\n",
       "</tr>\n",
       "<tr>\n",
       "  <th>No. Observations:</th>      <td>    20</td>      <th>  AIC:               </th> <td>   197.6</td>\n",
       "</tr>\n",
       "<tr>\n",
       "  <th>Df Residuals:</th>          <td>    18</td>      <th>  BIC:               </th> <td>   199.6</td>\n",
       "</tr>\n",
       "<tr>\n",
       "  <th>Df Model:</th>              <td>     1</td>      <th>                     </th>     <td> </td>   \n",
       "</tr>\n",
       "<tr>\n",
       "  <th>Covariance Type:</th>      <td>nonrobust</td>    <th>                     </th>     <td> </td>   \n",
       "</tr>\n",
       "</table>\n",
       "<table class=\"simpletable\">\n",
       "<tr>\n",
       "      <td></td>        <th>coef</th>     <th>std err</th>      <th>t</th>      <th>P>|t|</th>  <th>[0.025</th>    <th>0.975]</th>  \n",
       "</tr>\n",
       "<tr>\n",
       "  <th>const</th>    <td>   78.3928</td> <td>   15.193</td> <td>    5.160</td> <td> 0.000</td> <td>   46.474</td> <td>  110.312</td>\n",
       "</tr>\n",
       "<tr>\n",
       "  <th>Latitude</th> <td>    0.8313</td> <td>    0.463</td> <td>    1.795</td> <td> 0.090</td> <td>   -0.142</td> <td>    1.804</td>\n",
       "</tr>\n",
       "</table>\n",
       "<table class=\"simpletable\">\n",
       "<tr>\n",
       "  <th>Omnibus:</th>       <td> 4.269</td> <th>  Durbin-Watson:     </th> <td>   2.376</td>\n",
       "</tr>\n",
       "<tr>\n",
       "  <th>Prob(Omnibus):</th> <td> 0.118</td> <th>  Jarque-Bera (JB):  </th> <td>   1.469</td>\n",
       "</tr>\n",
       "<tr>\n",
       "  <th>Skew:</th>          <td>-0.117</td> <th>  Prob(JB):          </th> <td>   0.480</td>\n",
       "</tr>\n",
       "<tr>\n",
       "  <th>Kurtosis:</th>      <td> 1.693</td> <th>  Cond. No.          </th> <td>    69.1</td>\n",
       "</tr>\n",
       "</table><br/><br/>Notes:<br/>[1] Standard Errors assume that the covariance matrix of the errors is correctly specified."
      ],
      "text/plain": [
       "<class 'statsmodels.iolib.summary.Summary'>\n",
       "\"\"\"\n",
       "                            OLS Regression Results                            \n",
       "==============================================================================\n",
       "Dep. Variable:             Cloudiness   R-squared:                       0.152\n",
       "Model:                            OLS   Adj. R-squared:                  0.105\n",
       "Method:                 Least Squares   F-statistic:                     3.221\n",
       "Date:                Sun, 06 Feb 2022   Prob (F-statistic):             0.0895\n",
       "Time:                        22:29:30   Log-Likelihood:                -96.813\n",
       "No. Observations:                  20   AIC:                             197.6\n",
       "Df Residuals:                      18   BIC:                             199.6\n",
       "Df Model:                           1                                         \n",
       "Covariance Type:            nonrobust                                         \n",
       "==============================================================================\n",
       "                 coef    std err          t      P>|t|      [0.025      0.975]\n",
       "------------------------------------------------------------------------------\n",
       "const         78.3928     15.193      5.160      0.000      46.474     110.312\n",
       "Latitude       0.8313      0.463      1.795      0.090      -0.142       1.804\n",
       "==============================================================================\n",
       "Omnibus:                        4.269   Durbin-Watson:                   2.376\n",
       "Prob(Omnibus):                  0.118   Jarque-Bera (JB):                1.469\n",
       "Skew:                          -0.117   Prob(JB):                        0.480\n",
       "Kurtosis:                       1.693   Cond. No.                         69.1\n",
       "==============================================================================\n",
       "\n",
       "Notes:\n",
       "[1] Standard Errors assume that the covariance matrix of the errors is correctly specified.\n",
       "\"\"\""
      ]
     },
     "execution_count": 59,
     "metadata": {},
     "output_type": "execute_result"
    }
   ],
   "source": [
    "feature = df_south[[\"Latitude\"]]\n",
    "target = df_south[\"Cloudiness\"]\n",
    "\n",
    "# STATSMODELS\n",
    "X = sm.add_constant(feature)\n",
    "Y = target\n",
    "\n",
    "model = sm.OLS(Y,X)\n",
    "results = model.fit()\n",
    "results.summary()"
   ]
  },
  {
   "cell_type": "code",
   "execution_count": 60,
   "metadata": {},
   "outputs": [
    {
     "name": "stdout",
     "output_type": "stream",
     "text": [
      "[0.8313144]\n",
      "78.3927520545997\n"
     ]
    }
   ],
   "source": [
    "reg = LinearRegression()\n",
    "reg.fit(np.array(feature), np.array(target))\n",
    "print(reg.coef_)\n",
    "print(reg.intercept_)"
   ]
  },
  {
   "cell_type": "code",
   "execution_count": 61,
   "metadata": {},
   "outputs": [
    {
     "name": "stdout",
     "output_type": "stream",
     "text": [
      "R2: 0.15177681141099597\n",
      "MSE: 937.6598415938286\n",
      "RMSE: 30.621231875837857\n",
      "MAE: 27.179162665529326\n"
     ]
    }
   ],
   "source": [
    "actual = df_south[\"Cloudiness\"]\n",
    "predictions = reg.predict(df_south[\"Latitude\"].values.reshape(-1, 1))\n",
    "\n",
    "r2 = r2_score(actual, predictions)\n",
    "mse = mean_squared_error(actual, predictions)\n",
    "mae = mean_absolute_error(actual, predictions)\n",
    "\n",
    "print(f\"R2: {r2}\")\n",
    "print(f\"MSE: {mse}\")\n",
    "print(f\"RMSE: {np.sqrt(mse)}\")\n",
    "print(f\"MAE: {mae}\")"
   ]
  },
  {
   "cell_type": "code",
   "execution_count": 62,
   "metadata": {},
   "outputs": [
    {
     "data": {
      "image/png": "[encoded data removed]",
      "text/plain": [
       "<Figure size 720x432 with 1 Axes>"
      ]
     },
     "metadata": {
      "needs_background": "light"
     },
     "output_type": "display_data"
    }
   ],
   "source": [
    "plt.figure(figsize=(10,6))\n",
    "\n",
    "plt.scatter(predictions, actual)\n",
    "plt.plot(actual, actual)\n",
    "\n",
    "plt.xlabel(\"Predicted\")\n",
    "plt.ylabel(\"Actual\")\n",
    "\n",
    "plt.show()"
   ]
  },
  {
   "cell_type": "code",
   "execution_count": 63,
   "metadata": {},
   "outputs": [
    {
     "data": {
      "image/png": "[encoded data removed]",
      "text/plain": [
       "<Figure size 720x432 with 1 Axes>"
      ]
     },
     "metadata": {
      "needs_background": "light"
     },
     "output_type": "display_data"
    }
   ],
   "source": [
    "residuals = predictions - actual\n",
    "\n",
    "plt.figure(figsize=(10,6))\n",
    "\n",
    "plt.scatter(predictions, residuals)\n",
    "plt.hlines(0, 40, 100)\n",
    "\n",
    "plt.xlabel(\"Predicted\")\n",
    "plt.ylabel(\"Residuals\")\n",
    "\n",
    "plt.show()"
   ]
  },
  {
   "cell_type": "code",
   "execution_count": null,
   "metadata": {},
   "outputs": [],
   "source": []
  },
  {
   "cell_type": "markdown",
   "metadata": {},
   "source": [
    "####  Northern Hemisphere - Wind Speed (mph) vs. Latitude Linear Regression"
   ]
  },
  {
   "cell_type": "code",
   "execution_count": 64,
   "metadata": {},
   "outputs": [
    {
     "name": "stdout",
     "output_type": "stream",
     "text": [
      "The r-squared is: 0.02412275531282808\n"
     ]
    },
    {
     "data": {
      "image/png": "[encoded data removed]",
      "text/plain": [
       "<Figure size 432x288 with 1 Axes>"
      ]
     },
     "metadata": {
      "needs_background": "light"
     },
     "output_type": "display_data"
    }
   ],
   "source": [
    "# Print out the r-squared value along with the plot.\n",
    "x_values = df_north['Latitude']\n",
    "y_values = df_north['Wind_Speed']\n",
    "\n",
    "(slope, intercept, rvalue, pvalue, stderr) = linregress(x_values, y_values)\n",
    "regress_values = x_values * slope + intercept\n",
    "line_eq = \"y = \" + str(round(slope,2)) + \"x + \" + str(round(intercept,2))\n",
    "plt.scatter(x_values,y_values)\n",
    "plt.plot(x_values,regress_values,\"r-\")\n",
    "\n",
    "plt.annotate(line_eq,(10,95),fontsize=15,color=\"red\")\n",
    "plt.xlabel('Latitude')\n",
    "plt.ylabel('Wind_Speed')\n",
    "\n",
    "print(f\"The r-squared is: {rvalue**2}\")\n",
    "plt.show()"
   ]
  },
  {
   "cell_type": "code",
   "execution_count": 65,
   "metadata": {},
   "outputs": [
    {
     "data": {
      "text/html": [
       "<table class=\"simpletable\">\n",
       "<caption>OLS Regression Results</caption>\n",
       "<tr>\n",
       "  <th>Dep. Variable:</th>       <td>Wind_Speed</td>    <th>  R-squared:         </th> <td>   0.024</td>\n",
       "</tr>\n",
       "<tr>\n",
       "  <th>Model:</th>                   <td>OLS</td>       <th>  Adj. R-squared:    </th> <td>  -0.006</td>\n",
       "</tr>\n",
       "<tr>\n",
       "  <th>Method:</th>             <td>Least Squares</td>  <th>  F-statistic:       </th> <td>  0.7910</td>\n",
       "</tr>\n",
       "<tr>\n",
       "  <th>Date:</th>             <td>Sun, 06 Feb 2022</td> <th>  Prob (F-statistic):</th>  <td> 0.380</td> \n",
       "</tr>\n",
       "<tr>\n",
       "  <th>Time:</th>                 <td>22:29:30</td>     <th>  Log-Likelihood:    </th> <td> -136.28</td>\n",
       "</tr>\n",
       "<tr>\n",
       "  <th>No. Observations:</th>      <td>    34</td>      <th>  AIC:               </th> <td>   276.6</td>\n",
       "</tr>\n",
       "<tr>\n",
       "  <th>Df Residuals:</th>          <td>    32</td>      <th>  BIC:               </th> <td>   279.6</td>\n",
       "</tr>\n",
       "<tr>\n",
       "  <th>Df Model:</th>              <td>     1</td>      <th>                     </th>     <td> </td>   \n",
       "</tr>\n",
       "<tr>\n",
       "  <th>Covariance Type:</th>      <td>nonrobust</td>    <th>                     </th>     <td> </td>   \n",
       "</tr>\n",
       "</table>\n",
       "<table class=\"simpletable\">\n",
       "<tr>\n",
       "      <td></td>        <th>coef</th>     <th>std err</th>      <th>t</th>      <th>P>|t|</th>  <th>[0.025</th>    <th>0.975]</th>  \n",
       "</tr>\n",
       "<tr>\n",
       "  <th>const</th>    <td>    5.2814</td> <td>    5.664</td> <td>    0.932</td> <td> 0.358</td> <td>   -6.256</td> <td>   16.818</td>\n",
       "</tr>\n",
       "<tr>\n",
       "  <th>Latitude</th> <td>    0.0994</td> <td>    0.112</td> <td>    0.889</td> <td> 0.380</td> <td>   -0.128</td> <td>    0.327</td>\n",
       "</tr>\n",
       "</table>\n",
       "<table class=\"simpletable\">\n",
       "<tr>\n",
       "  <th>Omnibus:</th>       <td>42.531</td> <th>  Durbin-Watson:     </th> <td>   2.162</td>\n",
       "</tr>\n",
       "<tr>\n",
       "  <th>Prob(Omnibus):</th> <td> 0.000</td> <th>  Jarque-Bera (JB):  </th> <td> 139.732</td>\n",
       "</tr>\n",
       "<tr>\n",
       "  <th>Skew:</th>          <td> 2.911</td> <th>  Prob(JB):          </th> <td>4.55e-31</td>\n",
       "</tr>\n",
       "<tr>\n",
       "  <th>Kurtosis:</th>      <td>11.047</td> <th>  Cond. No.          </th> <td>    122.</td>\n",
       "</tr>\n",
       "</table><br/><br/>Notes:<br/>[1] Standard Errors assume that the covariance matrix of the errors is correctly specified."
      ],
      "text/plain": [
       "<class 'statsmodels.iolib.summary.Summary'>\n",
       "\"\"\"\n",
       "                            OLS Regression Results                            \n",
       "==============================================================================\n",
       "Dep. Variable:             Wind_Speed   R-squared:                       0.024\n",
       "Model:                            OLS   Adj. R-squared:                 -0.006\n",
       "Method:                 Least Squares   F-statistic:                    0.7910\n",
       "Date:                Sun, 06 Feb 2022   Prob (F-statistic):              0.380\n",
       "Time:                        22:29:30   Log-Likelihood:                -136.28\n",
       "No. Observations:                  34   AIC:                             276.6\n",
       "Df Residuals:                      32   BIC:                             279.6\n",
       "Df Model:                           1                                         \n",
       "Covariance Type:            nonrobust                                         \n",
       "==============================================================================\n",
       "                 coef    std err          t      P>|t|      [0.025      0.975]\n",
       "------------------------------------------------------------------------------\n",
       "const          5.2814      5.664      0.932      0.358      -6.256      16.818\n",
       "Latitude       0.0994      0.112      0.889      0.380      -0.128       0.327\n",
       "==============================================================================\n",
       "Omnibus:                       42.531   Durbin-Watson:                   2.162\n",
       "Prob(Omnibus):                  0.000   Jarque-Bera (JB):              139.732\n",
       "Skew:                           2.911   Prob(JB):                     4.55e-31\n",
       "Kurtosis:                      11.047   Cond. No.                         122.\n",
       "==============================================================================\n",
       "\n",
       "Notes:\n",
       "[1] Standard Errors assume that the covariance matrix of the errors is correctly specified.\n",
       "\"\"\""
      ]
     },
     "execution_count": 65,
     "metadata": {},
     "output_type": "execute_result"
    }
   ],
   "source": [
    "feature = df_north[[\"Latitude\"]]\n",
    "target = df_north[\"Wind_Speed\"]\n",
    "\n",
    "# STATSMODELS\n",
    "X = sm.add_constant(feature)\n",
    "Y = target\n",
    "\n",
    "model = sm.OLS(Y,X)\n",
    "results = model.fit()\n",
    "results.summary()"
   ]
  },
  {
   "cell_type": "code",
   "execution_count": 66,
   "metadata": {},
   "outputs": [
    {
     "name": "stdout",
     "output_type": "stream",
     "text": [
      "[0.09943943]\n",
      "5.281371295995296\n"
     ]
    }
   ],
   "source": [
    "reg = LinearRegression()\n",
    "reg.fit(np.array(feature), np.array(target))\n",
    "print(reg.coef_)\n",
    "print(reg.intercept_)"
   ]
  },
  {
   "cell_type": "code",
   "execution_count": 67,
   "metadata": {},
   "outputs": [
    {
     "name": "stdout",
     "output_type": "stream",
     "text": [
      "R2: 0.02412275531282826\n",
      "MSE: 177.48490875125535\n",
      "RMSE: 13.322346217962336\n",
      "MAE: 7.696869819763109\n"
     ]
    }
   ],
   "source": [
    "actual = df_north[\"Wind_Speed\"]\n",
    "predictions = reg.predict(df_north[\"Latitude\"].values.reshape(-1, 1))\n",
    "\n",
    "r2 = r2_score(actual, predictions)\n",
    "mse = mean_squared_error(actual, predictions)\n",
    "mae = mean_absolute_error(actual, predictions)\n",
    "\n",
    "print(f\"R2: {r2}\")\n",
    "print(f\"MSE: {mse}\")\n",
    "print(f\"RMSE: {np.sqrt(mse)}\")\n",
    "print(f\"MAE: {mae}\")"
   ]
  },
  {
   "cell_type": "code",
   "execution_count": 68,
   "metadata": {},
   "outputs": [
    {
     "data": {
      "image/png": "[encoded data removed]",
      "text/plain": [
       "<Figure size 720x432 with 1 Axes>"
      ]
     },
     "metadata": {
      "needs_background": "light"
     },
     "output_type": "display_data"
    }
   ],
   "source": [
    "plt.figure(figsize=(10,6))\n",
    "\n",
    "plt.scatter(predictions, actual)\n",
    "plt.plot(actual, actual)\n",
    "\n",
    "plt.xlabel(\"Predicted\")\n",
    "plt.ylabel(\"Actual\")\n",
    "\n",
    "plt.show()"
   ]
  },
  {
   "cell_type": "code",
   "execution_count": 69,
   "metadata": {},
   "outputs": [
    {
     "data": {
      "image/png": "[encoded data removed]",
      "text/plain": [
       "<Figure size 720x432 with 1 Axes>"
      ]
     },
     "metadata": {
      "needs_background": "light"
     },
     "output_type": "display_data"
    }
   ],
   "source": [
    "residuals = predictions - actual\n",
    "\n",
    "plt.figure(figsize=(10,6))\n",
    "\n",
    "plt.scatter(predictions, residuals)\n",
    "plt.hlines(0, 40, 100)\n",
    "\n",
    "plt.xlabel(\"Predicted\")\n",
    "plt.ylabel(\"Residuals\")\n",
    "\n",
    "plt.show()"
   ]
  },
  {
   "cell_type": "code",
   "execution_count": null,
   "metadata": {},
   "outputs": [],
   "source": []
  },
  {
   "cell_type": "code",
   "execution_count": null,
   "metadata": {},
   "outputs": [],
   "source": []
  },
  {
   "cell_type": "code",
   "execution_count": null,
   "metadata": {},
   "outputs": [],
   "source": []
  },
  {
   "cell_type": "code",
   "execution_count": null,
   "metadata": {},
   "outputs": [],
   "source": []
  },
  {
   "cell_type": "markdown",
   "metadata": {},
   "source": [
    "####  Southern Hemisphere - Wind Speed (mph) vs. Latitude Linear Regression"
   ]
  },
  {
   "cell_type": "code",
   "execution_count": 70,
   "metadata": {},
   "outputs": [
    {
     "name": "stdout",
     "output_type": "stream",
     "text": [
      "The r-squared is: 0.0004863955287882552\n"
     ]
    },
    {
     "data": {
      "image/png": "[encoded data removed]",
      "text/plain": [
       "<Figure size 432x288 with 1 Axes>"
      ]
     },
     "metadata": {
      "needs_background": "light"
     },
     "output_type": "display_data"
    }
   ],
   "source": [
    "# Print out the r-squared value along with the plot.\n",
    "x_values = df_south['Latitude']\n",
    "y_values = df_south['Wind_Speed']\n",
    "\n",
    "(slope, intercept, rvalue, pvalue, stderr) = linregress(x_values, y_values)\n",
    "regress_values = x_values * slope + intercept\n",
    "line_eq = \"y = \" + str(round(slope,2)) + \"x + \" + str(round(intercept,2))\n",
    "plt.scatter(x_values,y_values)\n",
    "plt.plot(x_values,regress_values,\"r-\")\n",
    "\n",
    "plt.annotate(line_eq,(10,95),fontsize=15,color=\"red\")\n",
    "plt.xlabel('Latitude')\n",
    "plt.ylabel('Wind_Speed')\n",
    "\n",
    "print(f\"The r-squared is: {rvalue**2}\")\n",
    "plt.show()"
   ]
  },
  {
   "cell_type": "code",
   "execution_count": 71,
   "metadata": {},
   "outputs": [
    {
     "data": {
      "text/html": [
       "<table class=\"simpletable\">\n",
       "<caption>OLS Regression Results</caption>\n",
       "<tr>\n",
       "  <th>Dep. Variable:</th>       <td>Wind_Speed</td>    <th>  R-squared:         </th> <td>   0.000</td>\n",
       "</tr>\n",
       "<tr>\n",
       "  <th>Model:</th>                   <td>OLS</td>       <th>  Adj. R-squared:    </th> <td>  -0.055</td>\n",
       "</tr>\n",
       "<tr>\n",
       "  <th>Method:</th>             <td>Least Squares</td>  <th>  F-statistic:       </th> <td>0.008759</td>\n",
       "</tr>\n",
       "<tr>\n",
       "  <th>Date:</th>             <td>Sun, 06 Feb 2022</td> <th>  Prob (F-statistic):</th>  <td> 0.926</td> \n",
       "</tr>\n",
       "<tr>\n",
       "  <th>Time:</th>                 <td>22:29:31</td>     <th>  Log-Likelihood:    </th> <td> -63.791</td>\n",
       "</tr>\n",
       "<tr>\n",
       "  <th>No. Observations:</th>      <td>    20</td>      <th>  AIC:               </th> <td>   131.6</td>\n",
       "</tr>\n",
       "<tr>\n",
       "  <th>Df Residuals:</th>          <td>    18</td>      <th>  BIC:               </th> <td>   133.6</td>\n",
       "</tr>\n",
       "<tr>\n",
       "  <th>Df Model:</th>              <td>     1</td>      <th>                     </th>     <td> </td>   \n",
       "</tr>\n",
       "<tr>\n",
       "  <th>Covariance Type:</th>      <td>nonrobust</td>    <th>                     </th>     <td> </td>   \n",
       "</tr>\n",
       "</table>\n",
       "<table class=\"simpletable\">\n",
       "<tr>\n",
       "      <td></td>        <th>coef</th>     <th>std err</th>      <th>t</th>      <th>P>|t|</th>  <th>[0.025</th>    <th>0.975]</th>  \n",
       "</tr>\n",
       "<tr>\n",
       "  <th>const</th>    <td>    9.7605</td> <td>    2.915</td> <td>    3.349</td> <td> 0.004</td> <td>    3.637</td> <td>   15.884</td>\n",
       "</tr>\n",
       "<tr>\n",
       "  <th>Latitude</th> <td>    0.0083</td> <td>    0.089</td> <td>    0.094</td> <td> 0.926</td> <td>   -0.178</td> <td>    0.195</td>\n",
       "</tr>\n",
       "</table>\n",
       "<table class=\"simpletable\">\n",
       "<tr>\n",
       "  <th>Omnibus:</th>       <td> 4.487</td> <th>  Durbin-Watson:     </th> <td>   1.664</td>\n",
       "</tr>\n",
       "<tr>\n",
       "  <th>Prob(Omnibus):</th> <td> 0.106</td> <th>  Jarque-Bera (JB):  </th> <td>   1.546</td>\n",
       "</tr>\n",
       "<tr>\n",
       "  <th>Skew:</th>          <td> 0.175</td> <th>  Prob(JB):          </th> <td>   0.462</td>\n",
       "</tr>\n",
       "<tr>\n",
       "  <th>Kurtosis:</th>      <td> 1.684</td> <th>  Cond. No.          </th> <td>    69.1</td>\n",
       "</tr>\n",
       "</table><br/><br/>Notes:<br/>[1] Standard Errors assume that the covariance matrix of the errors is correctly specified."
      ],
      "text/plain": [
       "<class 'statsmodels.iolib.summary.Summary'>\n",
       "\"\"\"\n",
       "                            OLS Regression Results                            \n",
       "==============================================================================\n",
       "Dep. Variable:             Wind_Speed   R-squared:                       0.000\n",
       "Model:                            OLS   Adj. R-squared:                 -0.055\n",
       "Method:                 Least Squares   F-statistic:                  0.008759\n",
       "Date:                Sun, 06 Feb 2022   Prob (F-statistic):              0.926\n",
       "Time:                        22:29:31   Log-Likelihood:                -63.791\n",
       "No. Observations:                  20   AIC:                             131.6\n",
       "Df Residuals:                      18   BIC:                             133.6\n",
       "Df Model:                           1                                         \n",
       "Covariance Type:            nonrobust                                         \n",
       "==============================================================================\n",
       "                 coef    std err          t      P>|t|      [0.025      0.975]\n",
       "------------------------------------------------------------------------------\n",
       "const          9.7605      2.915      3.349      0.004       3.637      15.884\n",
       "Latitude       0.0083      0.089      0.094      0.926      -0.178       0.195\n",
       "==============================================================================\n",
       "Omnibus:                        4.487   Durbin-Watson:                   1.664\n",
       "Prob(Omnibus):                  0.106   Jarque-Bera (JB):                1.546\n",
       "Skew:                           0.175   Prob(JB):                        0.462\n",
       "Kurtosis:                       1.684   Cond. No.                         69.1\n",
       "==============================================================================\n",
       "\n",
       "Notes:\n",
       "[1] Standard Errors assume that the covariance matrix of the errors is correctly specified.\n",
       "\"\"\""
      ]
     },
     "execution_count": 71,
     "metadata": {},
     "output_type": "execute_result"
    }
   ],
   "source": [
    "feature = df_south[[\"Latitude\"]]\n",
    "target = df_south[\"Wind_Speed\"]\n",
    "\n",
    "# STATSMODELS\n",
    "X = sm.add_constant(feature)\n",
    "Y = target\n",
    "\n",
    "model = sm.OLS(Y,X)\n",
    "results = model.fit()\n",
    "results.summary()"
   ]
  },
  {
   "cell_type": "code",
   "execution_count": 72,
   "metadata": {},
   "outputs": [
    {
     "name": "stdout",
     "output_type": "stream",
     "text": [
      "[0.00831685]\n",
      "9.76053451304036\n"
     ]
    }
   ],
   "source": [
    "reg = LinearRegression()\n",
    "reg.fit(np.array(feature), np.array(target))\n",
    "print(reg.coef_)\n",
    "print(reg.intercept_)"
   ]
  },
  {
   "cell_type": "code",
   "execution_count": 73,
   "metadata": {},
   "outputs": [
    {
     "name": "stdout",
     "output_type": "stream",
     "text": [
      "R2: 0.0004863955287880417\n",
      "MSE: 34.50857176695582\n",
      "RMSE: 5.8743996941777645\n",
      "MAE: 5.27142451681796\n"
     ]
    }
   ],
   "source": [
    "actual = df_south[\"Wind_Speed\"]\n",
    "predictions = reg.predict(df_south[\"Latitude\"].values.reshape(-1, 1))\n",
    "\n",
    "r2 = r2_score(actual, predictions)\n",
    "mse = mean_squared_error(actual, predictions)\n",
    "mae = mean_absolute_error(actual, predictions)\n",
    "\n",
    "print(f\"R2: {r2}\")\n",
    "print(f\"MSE: {mse}\")\n",
    "print(f\"RMSE: {np.sqrt(mse)}\")\n",
    "print(f\"MAE: {mae}\")"
   ]
  },
  {
   "cell_type": "code",
   "execution_count": 74,
   "metadata": {},
   "outputs": [
    {
     "data": {
      "image/png": "[encoded data removed]",
      "text/plain": [
       "<Figure size 720x432 with 1 Axes>"
      ]
     },
     "metadata": {
      "needs_background": "light"
     },
     "output_type": "display_data"
    }
   ],
   "source": [
    "plt.figure(figsize=(10,6))\n",
    "\n",
    "plt.scatter(predictions, actual)\n",
    "plt.plot(actual, actual)\n",
    "\n",
    "plt.xlabel(\"Predicted\")\n",
    "plt.ylabel(\"Actual\")\n",
    "\n",
    "plt.show()"
   ]
  },
  {
   "cell_type": "code",
   "execution_count": 75,
   "metadata": {},
   "outputs": [
    {
     "data": {
      "image/png": "[encoded data removed]",
      "text/plain": [
       "<Figure size 720x432 with 1 Axes>"
      ]
     },
     "metadata": {
      "needs_background": "light"
     },
     "output_type": "display_data"
    }
   ],
   "source": [
    "residuals = predictions - actual\n",
    "\n",
    "plt.figure(figsize=(10,6))\n",
    "\n",
    "plt.scatter(predictions, residuals)\n",
    "plt.hlines(0, 40, 100)\n",
    "\n",
    "plt.xlabel(\"Predicted\")\n",
    "plt.ylabel(\"Residuals\")\n",
    "\n",
    "plt.show()"
   ]
  },
  {
   "cell_type": "code",
   "execution_count": null,
   "metadata": {},
   "outputs": [],
   "source": []
  },
  {
   "cell_type": "code",
   "execution_count": null,
   "metadata": {},
   "outputs": [],
   "source": []
  },
  {
   "cell_type": "code",
   "execution_count": null,
   "metadata": {},
   "outputs": [],
   "source": []
  }
 ],
 "metadata": {
  "anaconda-cloud": {},
  "kernel_info": {
   "name": "python3"
  },
  "kernelspec": {
   "display_name": "Python 3",
   "language": "python",
   "name": "python3"
  },
  "language_info": {
   "codemirror_mode": {
    "name": "ipython",
    "version": 3
   },
   "file_extension": ".py",
   "mimetype": "text/x-python",
   "name": "python",
   "nbconvert_exporter": "python",
   "pygments_lexer": "ipython3",
   "version": "3.8.8"
  },
  "latex_envs": {
   "LaTeX_envs_menu_present": true,
   "autoclose": false,
   "autocomplete": true,
   "bibliofile": "biblio.bib",
   "cite_by": "apalike",
   "current_citInitial": 1,
   "eqLabelWithNumbers": true,
   "eqNumInitial": 1,
   "hotkeys": {
    "equation": "Ctrl-E",
    "itemize": "Ctrl-I"
   },
   "labels_anchors": false,
   "latex_user_defs": false,
   "report_style_numbering": false,
   "user_envs_cfg": false
  },
  "nteract": {
   "version": "0.12.3"
  }
 },
 "nbformat": 4,
 "nbformat_minor": 2
}
