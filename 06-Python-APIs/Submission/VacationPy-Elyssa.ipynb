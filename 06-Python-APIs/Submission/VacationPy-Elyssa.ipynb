{
 "cells": [
  {
   "cell_type": "markdown",
   "metadata": {},
   "source": [
    "# VacationPy\n",
    "----\n",
    "\n",
    "#### Note\n",
    "* Keep an eye on your API usage. Use https://developers.google.com/maps/reporting/gmp-reporting as reference for how to monitor your usage and billing.\n",
    "\n",
    "* Instructions have been included for each segment. You do not have to follow them exactly, but they are included to help you think through the steps."
   ]
  },
  {
   "cell_type": "code",
   "execution_count": 1,
   "metadata": {},
   "outputs": [],
   "source": [
    "# Dependencies and Setup\n",
    "import matplotlib.pyplot as plt\n",
    "import pandas as pd\n",
    "import numpy as np\n",
    "import requests\n",
    "import gmaps\n",
    "import os\n",
    "\n",
    "# Import API key\n",
    "from api_keys_Elyssa import g_key"
   ]
  },
  {
   "cell_type": "markdown",
   "metadata": {},
   "source": [
    "### Store Part I results into DataFrame\n",
    "* Load the csv exported in Part I to a DataFrame"
   ]
  },
  {
   "cell_type": "code",
   "execution_count": 2,
   "metadata": {},
   "outputs": [
    {
     "data": {
      "text/html": [
       "<div>\n",
       "<style scoped>\n",
       "    .dataframe tbody tr th:only-of-type {\n",
       "        vertical-align: middle;\n",
       "    }\n",
       "\n",
       "    .dataframe tbody tr th {\n",
       "        vertical-align: top;\n",
       "    }\n",
       "\n",
       "    .dataframe thead th {\n",
       "        text-align: right;\n",
       "    }\n",
       "</style>\n",
       "<table border=\"1\" class=\"dataframe\">\n",
       "  <thead>\n",
       "    <tr style=\"text-align: right;\">\n",
       "      <th></th>\n",
       "      <th>City</th>\n",
       "      <th>Country</th>\n",
       "      <th>Latitude</th>\n",
       "      <th>Longitude</th>\n",
       "      <th>Date</th>\n",
       "      <th>Wind_Speed</th>\n",
       "      <th>Pressure</th>\n",
       "      <th>Humidity</th>\n",
       "      <th>Temperature</th>\n",
       "      <th>Cloudiness</th>\n",
       "    </tr>\n",
       "  </thead>\n",
       "  <tbody>\n",
       "    <tr>\n",
       "      <th>0</th>\n",
       "      <td>Arrondissement de Figeac</td>\n",
       "      <td>FR</td>\n",
       "      <td>44.7500</td>\n",
       "      <td>1.9167</td>\n",
       "      <td>1.644208e+09</td>\n",
       "      <td>10.29</td>\n",
       "      <td>1025.0</td>\n",
       "      <td>97.0</td>\n",
       "      <td>42.19</td>\n",
       "      <td>100.0</td>\n",
       "    </tr>\n",
       "    <tr>\n",
       "      <th>1</th>\n",
       "      <td>Airai</td>\n",
       "      <td>TL</td>\n",
       "      <td>-8.9266</td>\n",
       "      <td>125.4092</td>\n",
       "      <td>1.644208e+09</td>\n",
       "      <td>2.59</td>\n",
       "      <td>1010.0</td>\n",
       "      <td>67.0</td>\n",
       "      <td>74.08</td>\n",
       "      <td>47.0</td>\n",
       "    </tr>\n",
       "    <tr>\n",
       "      <th>2</th>\n",
       "      <td>Mataura</td>\n",
       "      <td>NZ</td>\n",
       "      <td>-46.1927</td>\n",
       "      <td>168.8643</td>\n",
       "      <td>1.644208e+09</td>\n",
       "      <td>4.63</td>\n",
       "      <td>1018.0</td>\n",
       "      <td>38.0</td>\n",
       "      <td>60.48</td>\n",
       "      <td>6.0</td>\n",
       "    </tr>\n",
       "    <tr>\n",
       "      <th>3</th>\n",
       "      <td>Bereda</td>\n",
       "      <td>ES</td>\n",
       "      <td>43.2686</td>\n",
       "      <td>-7.5406</td>\n",
       "      <td>1.644208e+09</td>\n",
       "      <td>1.74</td>\n",
       "      <td>1034.0</td>\n",
       "      <td>98.0</td>\n",
       "      <td>38.66</td>\n",
       "      <td>60.0</td>\n",
       "    </tr>\n",
       "    <tr>\n",
       "      <th>4</th>\n",
       "      <td>Yambio</td>\n",
       "      <td>SS</td>\n",
       "      <td>4.5721</td>\n",
       "      <td>28.3955</td>\n",
       "      <td>1.644208e+09</td>\n",
       "      <td>4.25</td>\n",
       "      <td>1012.0</td>\n",
       "      <td>25.0</td>\n",
       "      <td>63.66</td>\n",
       "      <td>94.0</td>\n",
       "    </tr>\n",
       "  </tbody>\n",
       "</table>\n",
       "</div>"
      ],
      "text/plain": [
       "                       City Country  Latitude  Longitude          Date  \\\n",
       "0  Arrondissement de Figeac      FR   44.7500     1.9167  1.644208e+09   \n",
       "1                     Airai      TL   -8.9266   125.4092  1.644208e+09   \n",
       "2                   Mataura      NZ  -46.1927   168.8643  1.644208e+09   \n",
       "3                    Bereda      ES   43.2686    -7.5406  1.644208e+09   \n",
       "4                    Yambio      SS    4.5721    28.3955  1.644208e+09   \n",
       "\n",
       "   Wind_Speed  Pressure  Humidity  Temperature  Cloudiness  \n",
       "0       10.29    1025.0      97.0        42.19       100.0  \n",
       "1        2.59    1010.0      67.0        74.08        47.0  \n",
       "2        4.63    1018.0      38.0        60.48         6.0  \n",
       "3        1.74    1034.0      98.0        38.66        60.0  \n",
       "4        4.25    1012.0      25.0        63.66        94.0  "
      ]
     },
     "execution_count": 2,
     "metadata": {},
     "output_type": "execute_result"
    }
   ],
   "source": [
    "df = pd.read_csv(\"my_data_Elyssa.csv\")\n",
    "df.head()"
   ]
  },
  {
   "cell_type": "code",
   "execution_count": 3,
   "metadata": {},
   "outputs": [
    {
     "name": "stdout",
     "output_type": "stream",
     "text": [
      "<class 'pandas.core.frame.DataFrame'>\n",
      "RangeIndex: 54 entries, 0 to 53\n",
      "Data columns (total 10 columns):\n",
      " #   Column       Non-Null Count  Dtype  \n",
      "---  ------       --------------  -----  \n",
      " 0   City         54 non-null     object \n",
      " 1   Country      54 non-null     object \n",
      " 2   Latitude     54 non-null     float64\n",
      " 3   Longitude    54 non-null     float64\n",
      " 4   Date         54 non-null     float64\n",
      " 5   Wind_Speed   54 non-null     float64\n",
      " 6   Pressure     54 non-null     float64\n",
      " 7   Humidity     54 non-null     float64\n",
      " 8   Temperature  54 non-null     float64\n",
      " 9   Cloudiness   54 non-null     float64\n",
      "dtypes: float64(8), object(2)\n",
      "memory usage: 4.3+ KB\n"
     ]
    }
   ],
   "source": [
    "df_sub = df.dropna().reset_index(drop=True)\n",
    "df_sub.info()"
   ]
  },
  {
   "cell_type": "code",
   "execution_count": 4,
   "metadata": {},
   "outputs": [
    {
     "data": {
      "text/html": [
       "<div>\n",
       "<style scoped>\n",
       "    .dataframe tbody tr th:only-of-type {\n",
       "        vertical-align: middle;\n",
       "    }\n",
       "\n",
       "    .dataframe tbody tr th {\n",
       "        vertical-align: top;\n",
       "    }\n",
       "\n",
       "    .dataframe thead th {\n",
       "        text-align: right;\n",
       "    }\n",
       "</style>\n",
       "<table border=\"1\" class=\"dataframe\">\n",
       "  <thead>\n",
       "    <tr style=\"text-align: right;\">\n",
       "      <th></th>\n",
       "      <th>Latitude</th>\n",
       "      <th>Longitude</th>\n",
       "      <th>Date</th>\n",
       "      <th>Wind_Speed</th>\n",
       "      <th>Pressure</th>\n",
       "      <th>Humidity</th>\n",
       "      <th>Temperature</th>\n",
       "      <th>Cloudiness</th>\n",
       "    </tr>\n",
       "  </thead>\n",
       "  <tbody>\n",
       "    <tr>\n",
       "      <th>count</th>\n",
       "      <td>54.000000</td>\n",
       "      <td>54.000000</td>\n",
       "      <td>5.400000e+01</td>\n",
       "      <td>54.000000</td>\n",
       "      <td>54.000000</td>\n",
       "      <td>54.000000</td>\n",
       "      <td>54.000000</td>\n",
       "      <td>54.000000</td>\n",
       "    </tr>\n",
       "    <tr>\n",
       "      <th>mean</th>\n",
       "      <td>18.318335</td>\n",
       "      <td>0.931906</td>\n",
       "      <td>1.644208e+09</td>\n",
       "      <td>9.735926</td>\n",
       "      <td>1013.851852</td>\n",
       "      <td>78.981481</td>\n",
       "      <td>43.196481</td>\n",
       "      <td>60.240741</td>\n",
       "    </tr>\n",
       "    <tr>\n",
       "      <th>std</th>\n",
       "      <td>41.355865</td>\n",
       "      <td>92.972399</td>\n",
       "      <td>1.147091e+02</td>\n",
       "      <td>11.389862</td>\n",
       "      <td>14.762788</td>\n",
       "      <td>17.862674</td>\n",
       "      <td>34.812381</td>\n",
       "      <td>38.404469</td>\n",
       "    </tr>\n",
       "    <tr>\n",
       "      <th>min</th>\n",
       "      <td>-54.800000</td>\n",
       "      <td>-175.200000</td>\n",
       "      <td>1.644207e+09</td>\n",
       "      <td>0.000000</td>\n",
       "      <td>967.000000</td>\n",
       "      <td>25.000000</td>\n",
       "      <td>-40.050000</td>\n",
       "      <td>0.000000</td>\n",
       "    </tr>\n",
       "    <tr>\n",
       "      <th>25%</th>\n",
       "      <td>-21.318875</td>\n",
       "      <td>-71.116275</td>\n",
       "      <td>1.644208e+09</td>\n",
       "      <td>4.007500</td>\n",
       "      <td>1011.000000</td>\n",
       "      <td>71.250000</td>\n",
       "      <td>18.115000</td>\n",
       "      <td>27.250000</td>\n",
       "    </tr>\n",
       "    <tr>\n",
       "      <th>50%</th>\n",
       "      <td>22.588200</td>\n",
       "      <td>-2.811950</td>\n",
       "      <td>1.644208e+09</td>\n",
       "      <td>7.055000</td>\n",
       "      <td>1014.000000</td>\n",
       "      <td>78.500000</td>\n",
       "      <td>60.470000</td>\n",
       "      <td>72.000000</td>\n",
       "    </tr>\n",
       "    <tr>\n",
       "      <th>75%</th>\n",
       "      <td>54.743500</td>\n",
       "      <td>83.644500</td>\n",
       "      <td>1.644208e+09</td>\n",
       "      <td>11.500000</td>\n",
       "      <td>1023.000000</td>\n",
       "      <td>94.750000</td>\n",
       "      <td>70.825000</td>\n",
       "      <td>100.000000</td>\n",
       "    </tr>\n",
       "    <tr>\n",
       "      <th>max</th>\n",
       "      <td>78.218600</td>\n",
       "      <td>168.864300</td>\n",
       "      <td>1.644208e+09</td>\n",
       "      <td>61.000000</td>\n",
       "      <td>1034.000000</td>\n",
       "      <td>100.000000</td>\n",
       "      <td>88.000000</td>\n",
       "      <td>100.000000</td>\n",
       "    </tr>\n",
       "  </tbody>\n",
       "</table>\n",
       "</div>"
      ],
      "text/plain": [
       "        Latitude   Longitude          Date  Wind_Speed     Pressure  \\\n",
       "count  54.000000   54.000000  5.400000e+01   54.000000    54.000000   \n",
       "mean   18.318335    0.931906  1.644208e+09    9.735926  1013.851852   \n",
       "std    41.355865   92.972399  1.147091e+02   11.389862    14.762788   \n",
       "min   -54.800000 -175.200000  1.644207e+09    0.000000   967.000000   \n",
       "25%   -21.318875  -71.116275  1.644208e+09    4.007500  1011.000000   \n",
       "50%    22.588200   -2.811950  1.644208e+09    7.055000  1014.000000   \n",
       "75%    54.743500   83.644500  1.644208e+09   11.500000  1023.000000   \n",
       "max    78.218600  168.864300  1.644208e+09   61.000000  1034.000000   \n",
       "\n",
       "         Humidity  Temperature  Cloudiness  \n",
       "count   54.000000    54.000000   54.000000  \n",
       "mean    78.981481    43.196481   60.240741  \n",
       "std     17.862674    34.812381   38.404469  \n",
       "min     25.000000   -40.050000    0.000000  \n",
       "25%     71.250000    18.115000   27.250000  \n",
       "50%     78.500000    60.470000   72.000000  \n",
       "75%     94.750000    70.825000  100.000000  \n",
       "max    100.000000    88.000000  100.000000  "
      ]
     },
     "execution_count": 4,
     "metadata": {},
     "output_type": "execute_result"
    }
   ],
   "source": [
    "df_sub.describe()"
   ]
  },
  {
   "cell_type": "markdown",
   "metadata": {},
   "source": [
    "### Humidity Heatmap\n",
    "* Configure gmaps.\n",
    "* Use the Lat and Lng as locations and Humidity as the weight.\n",
    "* Add Heatmap layer to map."
   ]
  },
  {
   "cell_type": "code",
   "execution_count": 5,
   "metadata": {},
   "outputs": [],
   "source": [
    "# Access maps with unique API key\n",
    "gmaps.configure(api_key=g_key)"
   ]
  },
  {
   "cell_type": "code",
   "execution_count": 6,
   "metadata": {},
   "outputs": [
    {
     "data": {
      "application/vnd.jupyter.widget-view+json": {
       "model_id": "08a2203645534683a3a70185eb0e2d13",
       "version_major": 2,
       "version_minor": 0
      },
      "text/plain": [
       "Figure(layout=FigureLayout(height='420px'))"
      ]
     },
     "metadata": {},
     "output_type": "display_data"
    }
   ],
   "source": [
    "#heatmap\n",
    "locations = df_sub.loc[:, [\"Latitude\", \"Longitude\"]]\n",
    "\n",
    "fig = gmaps.figure()\n",
    "heatmap_layer = gmaps.heatmap_layer(\n",
    "    locations, weights=df_sub['Humidity'],\n",
    "    max_intensity=20, point_radius=5\n",
    ")\n",
    "fig.add_layer(heatmap_layer)\n",
    "fig"
   ]
  },
  {
   "cell_type": "markdown",
   "metadata": {},
   "source": [
    "### Create new DataFrame fitting weather criteria\n",
    "* Narrow down the cities to fit weather conditions.\n",
    "* Drop any rows will null values."
   ]
  },
  {
   "cell_type": "code",
   "execution_count": 7,
   "metadata": {},
   "outputs": [
    {
     "data": {
      "text/html": [
       "<div>\n",
       "<style scoped>\n",
       "    .dataframe tbody tr th:only-of-type {\n",
       "        vertical-align: middle;\n",
       "    }\n",
       "\n",
       "    .dataframe tbody tr th {\n",
       "        vertical-align: top;\n",
       "    }\n",
       "\n",
       "    .dataframe thead th {\n",
       "        text-align: right;\n",
       "    }\n",
       "</style>\n",
       "<table border=\"1\" class=\"dataframe\">\n",
       "  <thead>\n",
       "    <tr style=\"text-align: right;\">\n",
       "      <th></th>\n",
       "      <th>City</th>\n",
       "      <th>Country</th>\n",
       "      <th>Latitude</th>\n",
       "      <th>Longitude</th>\n",
       "      <th>Date</th>\n",
       "      <th>Wind_Speed</th>\n",
       "      <th>Pressure</th>\n",
       "      <th>Humidity</th>\n",
       "      <th>Temperature</th>\n",
       "      <th>Cloudiness</th>\n",
       "    </tr>\n",
       "  </thead>\n",
       "  <tbody>\n",
       "    <tr>\n",
       "      <th>33</th>\n",
       "      <td>Hobart</td>\n",
       "      <td>AU</td>\n",
       "      <td>-42.8794</td>\n",
       "      <td>147.3294</td>\n",
       "      <td>1.644208e+09</td>\n",
       "      <td>1.01</td>\n",
       "      <td>1023.0</td>\n",
       "      <td>46.0</td>\n",
       "      <td>76.73</td>\n",
       "      <td>20.0</td>\n",
       "    </tr>\n",
       "  </tbody>\n",
       "</table>\n",
       "</div>"
      ],
      "text/plain": [
       "      City Country  Latitude  Longitude          Date  Wind_Speed  Pressure  \\\n",
       "33  Hobart      AU  -42.8794   147.3294  1.644208e+09        1.01    1023.0   \n",
       "\n",
       "    Humidity  Temperature  Cloudiness  \n",
       "33      46.0        76.73        20.0  "
      ]
     },
     "execution_count": 7,
     "metadata": {},
     "output_type": "execute_result"
    }
   ],
   "source": [
    "# A max temperature lower than 80 degrees but higher than 70.\n",
    "\n",
    "\n",
    "# Wind speed less than 10 mph.\n",
    "\n",
    "\n",
    "# Zero cloudiness\n",
    "\n",
    "mask = (df_sub.Temperature < 80) & (df_sub.Temperature > 70) & (df_sub.Wind_Speed < 10) & (df.Cloudiness == 0)\n",
    "\n",
    "good_cities = df_sub.loc[mask]\n",
    "good_cities"
   ]
  },
  {
   "cell_type": "markdown",
   "metadata": {},
   "source": [
    "### Hotel Map\n",
    "* Store into variable named `hotel_df`.\n",
    "* Add a \"Hotel Name\" column to the DataFrame.\n",
    "* Set parameters to search for hotels with 5000 meters.\n",
    "* Hit the Google Places API for each city's coordinates.\n",
    "* Store the first Hotel result into the DataFrame.\n",
    "* Plot markers on top of the heatmap."
   ]
  },
  {
   "cell_type": "code",
   "execution_count": 8,
   "metadata": {},
   "outputs": [
    {
     "name": "stdout",
     "output_type": "stream",
     "text": [
      "Maui Seaside Hotel\n",
      "100 West Kaahumanu Avenue, Kahului\n",
      "3.8\n"
     ]
    }
   ],
   "source": [
    "# geocoordinates\n",
    "target_coordinates = f\"{20.8947}, {-156.4700}\"\n",
    "target_search = \"\"\n",
    "\n",
    "target_radius = 5000\n",
    "target_type = \"lodging\"\n",
    "\n",
    "# set up a parameters dictionary\n",
    "params = {\n",
    "    \"location\": target_coordinates,\n",
    "    \"keyword\": target_search,\n",
    "    \"radius\": target_radius,\n",
    "    \"type\": target_type,\n",
    "    \"key\": g_key\n",
    "}\n",
    "\n",
    "# base url\n",
    "base_url = \"https://maps.googleapis.com/maps/api/place/nearbysearch/json\"\n",
    "\n",
    "# run a request using our params dictionary\n",
    "response = requests.get(base_url, params=params)\n",
    "\n",
    "places_data = response.json()\n",
    "\n",
    "print(places_data[\"results\"][0][\"name\"])\n",
    "print(places_data[\"results\"][0][\"vicinity\"])\n",
    "print(places_data[\"results\"][0][\"rating\"])"
   ]
  },
  {
   "cell_type": "code",
   "execution_count": null,
   "metadata": {},
   "outputs": [],
   "source": []
  },
  {
   "cell_type": "code",
   "execution_count": 9,
   "metadata": {},
   "outputs": [
    {
     "name": "stdout",
     "output_type": "stream",
     "text": [
      "Hobart\n"
     ]
    }
   ],
   "source": [
    "hotel_names = []\n",
    "ratings = []\n",
    "addresses = []\n",
    "cities = []\n",
    "countries = []\n",
    "lats = []\n",
    "longs = []\n",
    "\n",
    "for _, row in good_cities.iterrows():\n",
    "    print(row.City)\n",
    "\n",
    "    # geocoordinates\n",
    "    target_coordinates = f\"{row.Latitude}, {row.Longitude}\"\n",
    "    target_search = \"\"\n",
    "\n",
    "    target_radius = 5000\n",
    "    target_type = \"lodging\"\n",
    "\n",
    "    # set up a parameters dictionary\n",
    "    params = {\n",
    "        \"location\": target_coordinates,\n",
    "        \"keyword\": target_search,\n",
    "        \"radius\": target_radius,\n",
    "        \"type\": target_type,\n",
    "        \"key\": g_key\n",
    "    }\n",
    "\n",
    "    # base url\n",
    "    base_url = \"https://maps.googleapis.com/maps/api/place/nearbysearch/json\"\n",
    "\n",
    "    # run a request using our params dictionary\n",
    "    response = requests.get(base_url, params=params)\n",
    "\n",
    "    places_data = response.json()\n",
    "\n",
    "    hotel = places_data[\"results\"][0][\"name\"]\n",
    "    address = places_data[\"results\"][0][\"vicinity\"]\n",
    "    rating = places_data[\"results\"][0][\"rating\"]\n",
    "    \n",
    "    # put it all in a list\n",
    "    hotel_names.append(hotel)\n",
    "    ratings.append(rating)\n",
    "    addresses.append(address)\n",
    "    cities.append(row.City)\n",
    "    countries.append(row.Country)\n",
    "    lats.append(row.Latitude)\n",
    "    longs.append(row.Longitude)"
   ]
  },
  {
   "cell_type": "code",
   "execution_count": 10,
   "metadata": {},
   "outputs": [
    {
     "data": {
      "text/html": [
       "<div>\n",
       "<style scoped>\n",
       "    .dataframe tbody tr th:only-of-type {\n",
       "        vertical-align: middle;\n",
       "    }\n",
       "\n",
       "    .dataframe tbody tr th {\n",
       "        vertical-align: top;\n",
       "    }\n",
       "\n",
       "    .dataframe thead th {\n",
       "        text-align: right;\n",
       "    }\n",
       "</style>\n",
       "<table border=\"1\" class=\"dataframe\">\n",
       "  <thead>\n",
       "    <tr style=\"text-align: right;\">\n",
       "      <th></th>\n",
       "      <th>City</th>\n",
       "      <th>Country</th>\n",
       "      <th>Latitude</th>\n",
       "      <th>Longitude</th>\n",
       "      <th>Hotel</th>\n",
       "      <th>Address</th>\n",
       "      <th>Rating</th>\n",
       "    </tr>\n",
       "  </thead>\n",
       "  <tbody>\n",
       "    <tr>\n",
       "      <th>0</th>\n",
       "      <td>Hobart</td>\n",
       "      <td>AU</td>\n",
       "      <td>-42.8794</td>\n",
       "      <td>147.3294</td>\n",
       "      <td>Mantra on Collins Hobart</td>\n",
       "      <td>58 Collins Street, Hobart</td>\n",
       "      <td>4.2</td>\n",
       "    </tr>\n",
       "  </tbody>\n",
       "</table>\n",
       "</div>"
      ],
      "text/plain": [
       "     City Country  Latitude  Longitude                     Hotel  \\\n",
       "0  Hobart      AU  -42.8794   147.3294  Mantra on Collins Hobart   \n",
       "\n",
       "                     Address  Rating  \n",
       "0  58 Collins Street, Hobart     4.2  "
      ]
     },
     "execution_count": 10,
     "metadata": {},
     "output_type": "execute_result"
    }
   ],
   "source": [
    "hotel_df = pd.DataFrame()\n",
    "hotel_df['City'] = cities\n",
    "hotel_df['Country'] = countries\n",
    "hotel_df['Latitude'] = lats\n",
    "hotel_df['Longitude'] = longs\n",
    "hotel_df['Hotel'] = hotel_names\n",
    "hotel_df['Address'] = addresses\n",
    "hotel_df['Rating'] = ratings\n",
    "\n",
    "hotel_df"
   ]
  },
  {
   "cell_type": "code",
   "execution_count": 11,
   "metadata": {},
   "outputs": [],
   "source": [
    "# NOTE: Do not change any of the code in this cell\n",
    "\n",
    "# Using the template add the hotel marks to the heatmap\n",
    "info_box_template = \"\"\"\n",
    "<dl>\n",
    "<dt>Name</dt><dd>{Hotel}</dd>\n",
    "<dt>Address</dt><dd>{Address}</dd>\n",
    "<dt>Rating</dt><dd>{Rating}</dd>\n",
    "<dt>City</dt><dd>{City}</dd>\n",
    "<dt>Country</dt><dd>{Country}</dd>\n",
    "</dl>\n",
    "\"\"\"\n",
    "# Store the DataFrame Row\n",
    "# NOTE: be sure to update with your DataFrame name\n",
    "hotel_info = [info_box_template.format(**row) for index, row in hotel_df.iterrows()]\n",
    "hotel_locations = hotel_df[[\"Latitude\", \"Longitude\"]]"
   ]
  },
  {
   "cell_type": "code",
   "execution_count": 14,
   "metadata": {},
   "outputs": [],
   "source": [
    "# create layers\n",
    "marker_layer = gmaps.marker_layer(hotel_locations, info_box_content=hotel_info)\n",
    "heatmap_layer = gmaps.heatmap_layer(\n",
    "    locations, weights=df_sub['Humidity'],\n",
    "    max_intensity=20, point_radius=5\n",
    ")\n",
    "\n",
    "\n",
    "fig = gmaps.figure()"
   ]
  },
  {
   "cell_type": "code",
   "execution_count": 15,
   "metadata": {},
   "outputs": [
    {
     "data": {
      "application/vnd.jupyter.widget-view+json": {
       "model_id": "431a08fffc204a95bfb73cadbcb8c5d0",
       "version_major": 2,
       "version_minor": 0
      },
      "text/plain": [
       "Figure(layout=FigureLayout(height='420px'))"
      ]
     },
     "metadata": {},
     "output_type": "display_data"
    }
   ],
   "source": [
    "# Add marker layer ontop of heat map\n",
    "fig.add_layer(marker_layer)\n",
    "fig.add_layer(heatmap_layer)\n",
    "\n",
    "# Display figure\n",
    "fig"
   ]
  },
  {
   "cell_type": "code",
   "execution_count": null,
   "metadata": {},
   "outputs": [],
   "source": []
  }
 ],
 "metadata": {
  "kernelspec": {
   "display_name": "Python 3",
   "language": "python",
   "name": "python3"
  },
  "language_info": {
   "codemirror_mode": {
    "name": "ipython",
    "version": 3
   },
   "file_extension": ".py",
   "mimetype": "text/x-python",
   "name": "python",
   "nbconvert_exporter": "python",
   "pygments_lexer": "ipython3",
   "version": "3.8.8"
  },
  "latex_envs": {
   "LaTeX_envs_menu_present": true,
   "autoclose": false,
   "autocomplete": true,
   "bibliofile": "biblio.bib",
   "cite_by": "apalike",
   "current_citInitial": 1,
   "eqLabelWithNumbers": true,
   "eqNumInitial": 1,
   "hotkeys": {
    "equation": "Ctrl-E",
    "itemize": "Ctrl-I"
   },
   "labels_anchors": false,
   "latex_user_defs": false,
   "report_style_numbering": false,
   "user_envs_cfg": false
  }
 },
 "nbformat": 4,
 "nbformat_minor": 4
}
